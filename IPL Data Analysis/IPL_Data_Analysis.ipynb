{
  "nbformat": 4,
  "nbformat_minor": 0,
  "metadata": {
    "colab": {
      "name": "IPL Data Analysis.ipynb",
      "provenance": [],
      "collapsed_sections": []
    },
    "kernelspec": {
      "name": "python3",
      "display_name": "Python 3"
    },
    "language_info": {
      "name": "python"
    }
  },
  "cells": [
    {
      "cell_type": "markdown",
      "metadata": {
        "id": "WmtHBgMt4B-A"
      },
      "source": [
        "Importing the necessary modules"
      ]
    },
    {
      "cell_type": "code",
      "metadata": {
        "id": "2rO4Gz8W3WVk"
      },
      "source": [
        "import numpy as np\n",
        "import pandas as pd\n",
        "import matplotlib.pyplot as plt\n",
        "import seaborn as sns"
      ],
      "execution_count": 1,
      "outputs": []
    },
    {
      "cell_type": "code",
      "metadata": {
        "id": "-FOK6FwaA2XD"
      },
      "source": [
        "import warnings\n",
        "warnings.filterwarnings('ignore')"
      ],
      "execution_count": 2,
      "outputs": []
    },
    {
      "cell_type": "markdown",
      "metadata": {
        "id": "wNqwJl-r4FcO"
      },
      "source": [
        "Understanding the Dataset"
      ]
    },
    {
      "cell_type": "code",
      "metadata": {
        "colab": {
          "base_uri": "https://localhost:8080/",
          "height": 425
        },
        "id": "ur0iR9lF4FqH",
        "outputId": "27ab08d7-ba63-4cd0-d199-5b8ce2c26f6c"
      },
      "source": [
        "match = pd.read_csv('Matches.csv')\n",
        "match.head()"
      ],
      "execution_count": 3,
      "outputs": [
        {
          "output_type": "execute_result",
          "data": {
            "text/html": [
              "<div>\n",
              "<style scoped>\n",
              "    .dataframe tbody tr th:only-of-type {\n",
              "        vertical-align: middle;\n",
              "    }\n",
              "\n",
              "    .dataframe tbody tr th {\n",
              "        vertical-align: top;\n",
              "    }\n",
              "\n",
              "    .dataframe thead th {\n",
              "        text-align: right;\n",
              "    }\n",
              "</style>\n",
              "<table border=\"1\" class=\"dataframe\">\n",
              "  <thead>\n",
              "    <tr style=\"text-align: right;\">\n",
              "      <th></th>\n",
              "      <th>id</th>\n",
              "      <th>city</th>\n",
              "      <th>date</th>\n",
              "      <th>player_of_match</th>\n",
              "      <th>venue</th>\n",
              "      <th>neutral_venue</th>\n",
              "      <th>team1</th>\n",
              "      <th>team2</th>\n",
              "      <th>toss_winner</th>\n",
              "      <th>toss_decision</th>\n",
              "      <th>winner</th>\n",
              "      <th>result</th>\n",
              "      <th>result_margin</th>\n",
              "      <th>eliminator</th>\n",
              "      <th>method</th>\n",
              "      <th>umpire1</th>\n",
              "      <th>umpire2</th>\n",
              "    </tr>\n",
              "  </thead>\n",
              "  <tbody>\n",
              "    <tr>\n",
              "      <th>0</th>\n",
              "      <td>335982</td>\n",
              "      <td>Bangalore</td>\n",
              "      <td>18-04-2008</td>\n",
              "      <td>BB McCullum</td>\n",
              "      <td>M Chinnaswamy Stadium</td>\n",
              "      <td>0</td>\n",
              "      <td>Royal Challengers Bangalore</td>\n",
              "      <td>Kolkata Knight Riders</td>\n",
              "      <td>Royal Challengers Bangalore</td>\n",
              "      <td>field</td>\n",
              "      <td>Kolkata Knight Riders</td>\n",
              "      <td>runs</td>\n",
              "      <td>140.0</td>\n",
              "      <td>N</td>\n",
              "      <td>NaN</td>\n",
              "      <td>Asad Rauf</td>\n",
              "      <td>RE Koertzen</td>\n",
              "    </tr>\n",
              "    <tr>\n",
              "      <th>1</th>\n",
              "      <td>335983</td>\n",
              "      <td>Chandigarh</td>\n",
              "      <td>19-04-2008</td>\n",
              "      <td>MEK Hussey</td>\n",
              "      <td>Punjab Cricket Association Stadium, Mohali</td>\n",
              "      <td>0</td>\n",
              "      <td>Kings XI Punjab</td>\n",
              "      <td>Chennai Super Kings</td>\n",
              "      <td>Chennai Super Kings</td>\n",
              "      <td>bat</td>\n",
              "      <td>Chennai Super Kings</td>\n",
              "      <td>runs</td>\n",
              "      <td>33.0</td>\n",
              "      <td>N</td>\n",
              "      <td>NaN</td>\n",
              "      <td>MR Benson</td>\n",
              "      <td>SL Shastri</td>\n",
              "    </tr>\n",
              "    <tr>\n",
              "      <th>2</th>\n",
              "      <td>335984</td>\n",
              "      <td>Delhi</td>\n",
              "      <td>19-04-2008</td>\n",
              "      <td>MF Maharoof</td>\n",
              "      <td>Feroz Shah Kotla</td>\n",
              "      <td>0</td>\n",
              "      <td>Delhi Daredevils</td>\n",
              "      <td>Rajasthan Royals</td>\n",
              "      <td>Rajasthan Royals</td>\n",
              "      <td>bat</td>\n",
              "      <td>Delhi Daredevils</td>\n",
              "      <td>wickets</td>\n",
              "      <td>9.0</td>\n",
              "      <td>N</td>\n",
              "      <td>NaN</td>\n",
              "      <td>Aleem Dar</td>\n",
              "      <td>GA Pratapkumar</td>\n",
              "    </tr>\n",
              "    <tr>\n",
              "      <th>3</th>\n",
              "      <td>335985</td>\n",
              "      <td>Mumbai</td>\n",
              "      <td>20-04-2008</td>\n",
              "      <td>MV Boucher</td>\n",
              "      <td>Wankhede Stadium</td>\n",
              "      <td>0</td>\n",
              "      <td>Mumbai Indians</td>\n",
              "      <td>Royal Challengers Bangalore</td>\n",
              "      <td>Mumbai Indians</td>\n",
              "      <td>bat</td>\n",
              "      <td>Royal Challengers Bangalore</td>\n",
              "      <td>wickets</td>\n",
              "      <td>5.0</td>\n",
              "      <td>N</td>\n",
              "      <td>NaN</td>\n",
              "      <td>SJ Davis</td>\n",
              "      <td>DJ Harper</td>\n",
              "    </tr>\n",
              "    <tr>\n",
              "      <th>4</th>\n",
              "      <td>335986</td>\n",
              "      <td>Kolkata</td>\n",
              "      <td>20-04-2008</td>\n",
              "      <td>DJ Hussey</td>\n",
              "      <td>Eden Gardens</td>\n",
              "      <td>0</td>\n",
              "      <td>Kolkata Knight Riders</td>\n",
              "      <td>Deccan Chargers</td>\n",
              "      <td>Deccan Chargers</td>\n",
              "      <td>bat</td>\n",
              "      <td>Kolkata Knight Riders</td>\n",
              "      <td>wickets</td>\n",
              "      <td>5.0</td>\n",
              "      <td>N</td>\n",
              "      <td>NaN</td>\n",
              "      <td>BF Bowden</td>\n",
              "      <td>K Hariharan</td>\n",
              "    </tr>\n",
              "  </tbody>\n",
              "</table>\n",
              "</div>"
            ],
            "text/plain": [
              "       id        city        date  ... method    umpire1         umpire2\n",
              "0  335982   Bangalore  18-04-2008  ...    NaN  Asad Rauf     RE Koertzen\n",
              "1  335983  Chandigarh  19-04-2008  ...    NaN  MR Benson      SL Shastri\n",
              "2  335984       Delhi  19-04-2008  ...    NaN  Aleem Dar  GA Pratapkumar\n",
              "3  335985      Mumbai  20-04-2008  ...    NaN   SJ Davis       DJ Harper\n",
              "4  335986     Kolkata  20-04-2008  ...    NaN  BF Bowden     K Hariharan\n",
              "\n",
              "[5 rows x 17 columns]"
            ]
          },
          "metadata": {
            "tags": []
          },
          "execution_count": 3
        }
      ]
    },
    {
      "cell_type": "code",
      "metadata": {
        "colab": {
          "base_uri": "https://localhost:8080/"
        },
        "id": "HmfeHH2P6hzf",
        "outputId": "5396b978-9c2f-42c8-814f-33669318d768"
      },
      "source": [
        "match.shape"
      ],
      "execution_count": 4,
      "outputs": [
        {
          "output_type": "execute_result",
          "data": {
            "text/plain": [
              "(816, 17)"
            ]
          },
          "metadata": {
            "tags": []
          },
          "execution_count": 4
        }
      ]
    },
    {
      "cell_type": "code",
      "metadata": {
        "colab": {
          "base_uri": "https://localhost:8080/"
        },
        "id": "qJMMxobW6tBQ",
        "outputId": "d4223643-d17d-4341-e172-555b5db55753"
      },
      "source": [
        "match.columns"
      ],
      "execution_count": 5,
      "outputs": [
        {
          "output_type": "execute_result",
          "data": {
            "text/plain": [
              "Index(['id', 'city', 'date', 'player_of_match', 'venue', 'neutral_venue',\n",
              "       'team1', 'team2', 'toss_winner', 'toss_decision', 'winner', 'result',\n",
              "       'result_margin', 'eliminator', 'method', 'umpire1', 'umpire2'],\n",
              "      dtype='object')"
            ]
          },
          "metadata": {
            "tags": []
          },
          "execution_count": 5
        }
      ]
    },
    {
      "cell_type": "code",
      "metadata": {
        "colab": {
          "base_uri": "https://localhost:8080/"
        },
        "id": "0e0CgyfQ4nRR",
        "outputId": "bb6bd160-14b1-460f-a8e0-dbec70b8575f"
      },
      "source": [
        "match.info()"
      ],
      "execution_count": 6,
      "outputs": [
        {
          "output_type": "stream",
          "text": [
            "<class 'pandas.core.frame.DataFrame'>\n",
            "RangeIndex: 816 entries, 0 to 815\n",
            "Data columns (total 17 columns):\n",
            " #   Column           Non-Null Count  Dtype  \n",
            "---  ------           --------------  -----  \n",
            " 0   id               816 non-null    int64  \n",
            " 1   city             803 non-null    object \n",
            " 2   date             816 non-null    object \n",
            " 3   player_of_match  812 non-null    object \n",
            " 4   venue            816 non-null    object \n",
            " 5   neutral_venue    816 non-null    int64  \n",
            " 6   team1            816 non-null    object \n",
            " 7   team2            816 non-null    object \n",
            " 8   toss_winner      816 non-null    object \n",
            " 9   toss_decision    816 non-null    object \n",
            " 10  winner           812 non-null    object \n",
            " 11  result           812 non-null    object \n",
            " 12  result_margin    799 non-null    float64\n",
            " 13  eliminator       812 non-null    object \n",
            " 14  method           19 non-null     object \n",
            " 15  umpire1          816 non-null    object \n",
            " 16  umpire2          816 non-null    object \n",
            "dtypes: float64(1), int64(2), object(14)\n",
            "memory usage: 108.5+ KB\n"
          ],
          "name": "stdout"
        }
      ]
    },
    {
      "cell_type": "code",
      "metadata": {
        "colab": {
          "base_uri": "https://localhost:8080/",
          "height": 295
        },
        "id": "3ry0fDig4sh_",
        "outputId": "91693dc9-f079-4b14-9096-45b6c1d3d35d"
      },
      "source": [
        "match.describe()"
      ],
      "execution_count": 7,
      "outputs": [
        {
          "output_type": "execute_result",
          "data": {
            "text/html": [
              "<div>\n",
              "<style scoped>\n",
              "    .dataframe tbody tr th:only-of-type {\n",
              "        vertical-align: middle;\n",
              "    }\n",
              "\n",
              "    .dataframe tbody tr th {\n",
              "        vertical-align: top;\n",
              "    }\n",
              "\n",
              "    .dataframe thead th {\n",
              "        text-align: right;\n",
              "    }\n",
              "</style>\n",
              "<table border=\"1\" class=\"dataframe\">\n",
              "  <thead>\n",
              "    <tr style=\"text-align: right;\">\n",
              "      <th></th>\n",
              "      <th>id</th>\n",
              "      <th>neutral_venue</th>\n",
              "      <th>result_margin</th>\n",
              "    </tr>\n",
              "  </thead>\n",
              "  <tbody>\n",
              "    <tr>\n",
              "      <th>count</th>\n",
              "      <td>8.160000e+02</td>\n",
              "      <td>816.000000</td>\n",
              "      <td>799.000000</td>\n",
              "    </tr>\n",
              "    <tr>\n",
              "      <th>mean</th>\n",
              "      <td>7.563496e+05</td>\n",
              "      <td>0.094363</td>\n",
              "      <td>17.321652</td>\n",
              "    </tr>\n",
              "    <tr>\n",
              "      <th>std</th>\n",
              "      <td>3.058943e+05</td>\n",
              "      <td>0.292512</td>\n",
              "      <td>22.068427</td>\n",
              "    </tr>\n",
              "    <tr>\n",
              "      <th>min</th>\n",
              "      <td>3.359820e+05</td>\n",
              "      <td>0.000000</td>\n",
              "      <td>1.000000</td>\n",
              "    </tr>\n",
              "    <tr>\n",
              "      <th>25%</th>\n",
              "      <td>5.012278e+05</td>\n",
              "      <td>0.000000</td>\n",
              "      <td>6.000000</td>\n",
              "    </tr>\n",
              "    <tr>\n",
              "      <th>50%</th>\n",
              "      <td>7.292980e+05</td>\n",
              "      <td>0.000000</td>\n",
              "      <td>8.000000</td>\n",
              "    </tr>\n",
              "    <tr>\n",
              "      <th>75%</th>\n",
              "      <td>1.082626e+06</td>\n",
              "      <td>0.000000</td>\n",
              "      <td>19.500000</td>\n",
              "    </tr>\n",
              "    <tr>\n",
              "      <th>max</th>\n",
              "      <td>1.237181e+06</td>\n",
              "      <td>1.000000</td>\n",
              "      <td>146.000000</td>\n",
              "    </tr>\n",
              "  </tbody>\n",
              "</table>\n",
              "</div>"
            ],
            "text/plain": [
              "                 id  neutral_venue  result_margin\n",
              "count  8.160000e+02     816.000000     799.000000\n",
              "mean   7.563496e+05       0.094363      17.321652\n",
              "std    3.058943e+05       0.292512      22.068427\n",
              "min    3.359820e+05       0.000000       1.000000\n",
              "25%    5.012278e+05       0.000000       6.000000\n",
              "50%    7.292980e+05       0.000000       8.000000\n",
              "75%    1.082626e+06       0.000000      19.500000\n",
              "max    1.237181e+06       1.000000     146.000000"
            ]
          },
          "metadata": {
            "tags": []
          },
          "execution_count": 7
        }
      ]
    },
    {
      "cell_type": "code",
      "metadata": {
        "colab": {
          "base_uri": "https://localhost:8080/"
        },
        "id": "iybJH4pI45Yv",
        "outputId": "cde87c71-ef00-49ba-9db5-c11a9b8f42d0"
      },
      "source": [
        "match.isnull().sum()"
      ],
      "execution_count": 8,
      "outputs": [
        {
          "output_type": "execute_result",
          "data": {
            "text/plain": [
              "id                   0\n",
              "city                13\n",
              "date                 0\n",
              "player_of_match      4\n",
              "venue                0\n",
              "neutral_venue        0\n",
              "team1                0\n",
              "team2                0\n",
              "toss_winner          0\n",
              "toss_decision        0\n",
              "winner               4\n",
              "result               4\n",
              "result_margin       17\n",
              "eliminator           4\n",
              "method             797\n",
              "umpire1              0\n",
              "umpire2              0\n",
              "dtype: int64"
            ]
          },
          "metadata": {
            "tags": []
          },
          "execution_count": 8
        }
      ]
    },
    {
      "cell_type": "code",
      "metadata": {
        "colab": {
          "base_uri": "https://localhost:8080/",
          "height": 391
        },
        "id": "AZSAxsBk50KP",
        "outputId": "efd11255-b0d8-4e80-9632-98d964bd60e6"
      },
      "source": [
        "ball_by_ball = pd.read_csv('Ball_by_ball.csv')\n",
        "ball_by_ball.head()"
      ],
      "execution_count": 9,
      "outputs": [
        {
          "output_type": "execute_result",
          "data": {
            "text/html": [
              "<div>\n",
              "<style scoped>\n",
              "    .dataframe tbody tr th:only-of-type {\n",
              "        vertical-align: middle;\n",
              "    }\n",
              "\n",
              "    .dataframe tbody tr th {\n",
              "        vertical-align: top;\n",
              "    }\n",
              "\n",
              "    .dataframe thead th {\n",
              "        text-align: right;\n",
              "    }\n",
              "</style>\n",
              "<table border=\"1\" class=\"dataframe\">\n",
              "  <thead>\n",
              "    <tr style=\"text-align: right;\">\n",
              "      <th></th>\n",
              "      <th>id</th>\n",
              "      <th>inning</th>\n",
              "      <th>over</th>\n",
              "      <th>ball</th>\n",
              "      <th>batsman</th>\n",
              "      <th>non_striker</th>\n",
              "      <th>bowler</th>\n",
              "      <th>batsman_runs</th>\n",
              "      <th>extra_runs</th>\n",
              "      <th>total_runs</th>\n",
              "      <th>non_boundary</th>\n",
              "      <th>is_wicket</th>\n",
              "      <th>dismissal_kind</th>\n",
              "      <th>player_dismissed</th>\n",
              "      <th>fielder</th>\n",
              "      <th>extras_type</th>\n",
              "      <th>batting_team</th>\n",
              "      <th>bowling_team</th>\n",
              "    </tr>\n",
              "  </thead>\n",
              "  <tbody>\n",
              "    <tr>\n",
              "      <th>0</th>\n",
              "      <td>335982</td>\n",
              "      <td>1</td>\n",
              "      <td>6</td>\n",
              "      <td>5</td>\n",
              "      <td>RT Ponting</td>\n",
              "      <td>BB McCullum</td>\n",
              "      <td>AA Noffke</td>\n",
              "      <td>1.0</td>\n",
              "      <td>0.0</td>\n",
              "      <td>1.0</td>\n",
              "      <td>0.0</td>\n",
              "      <td>0.0</td>\n",
              "      <td>NaN</td>\n",
              "      <td>NaN</td>\n",
              "      <td>NaN</td>\n",
              "      <td>NaN</td>\n",
              "      <td>Kolkata Knight Riders</td>\n",
              "      <td>Royal Challengers Bangalore</td>\n",
              "    </tr>\n",
              "    <tr>\n",
              "      <th>1</th>\n",
              "      <td>335982</td>\n",
              "      <td>1</td>\n",
              "      <td>6</td>\n",
              "      <td>6</td>\n",
              "      <td>BB McCullum</td>\n",
              "      <td>RT Ponting</td>\n",
              "      <td>AA Noffke</td>\n",
              "      <td>1.0</td>\n",
              "      <td>0.0</td>\n",
              "      <td>1.0</td>\n",
              "      <td>0.0</td>\n",
              "      <td>0.0</td>\n",
              "      <td>NaN</td>\n",
              "      <td>NaN</td>\n",
              "      <td>NaN</td>\n",
              "      <td>NaN</td>\n",
              "      <td>Kolkata Knight Riders</td>\n",
              "      <td>Royal Challengers Bangalore</td>\n",
              "    </tr>\n",
              "    <tr>\n",
              "      <th>2</th>\n",
              "      <td>335982</td>\n",
              "      <td>1</td>\n",
              "      <td>7</td>\n",
              "      <td>1</td>\n",
              "      <td>BB McCullum</td>\n",
              "      <td>RT Ponting</td>\n",
              "      <td>Z Khan</td>\n",
              "      <td>0.0</td>\n",
              "      <td>0.0</td>\n",
              "      <td>0.0</td>\n",
              "      <td>0.0</td>\n",
              "      <td>0.0</td>\n",
              "      <td>NaN</td>\n",
              "      <td>NaN</td>\n",
              "      <td>NaN</td>\n",
              "      <td>NaN</td>\n",
              "      <td>Kolkata Knight Riders</td>\n",
              "      <td>Royal Challengers Bangalore</td>\n",
              "    </tr>\n",
              "    <tr>\n",
              "      <th>3</th>\n",
              "      <td>335982</td>\n",
              "      <td>1</td>\n",
              "      <td>7</td>\n",
              "      <td>2</td>\n",
              "      <td>BB McCullum</td>\n",
              "      <td>RT Ponting</td>\n",
              "      <td>Z Khan</td>\n",
              "      <td>1.0</td>\n",
              "      <td>0.0</td>\n",
              "      <td>1.0</td>\n",
              "      <td>0.0</td>\n",
              "      <td>0.0</td>\n",
              "      <td>NaN</td>\n",
              "      <td>NaN</td>\n",
              "      <td>NaN</td>\n",
              "      <td>NaN</td>\n",
              "      <td>Kolkata Knight Riders</td>\n",
              "      <td>Royal Challengers Bangalore</td>\n",
              "    </tr>\n",
              "    <tr>\n",
              "      <th>4</th>\n",
              "      <td>335982</td>\n",
              "      <td>1</td>\n",
              "      <td>7</td>\n",
              "      <td>3</td>\n",
              "      <td>RT Ponting</td>\n",
              "      <td>BB McCullum</td>\n",
              "      <td>Z Khan</td>\n",
              "      <td>1.0</td>\n",
              "      <td>0.0</td>\n",
              "      <td>1.0</td>\n",
              "      <td>0.0</td>\n",
              "      <td>0.0</td>\n",
              "      <td>NaN</td>\n",
              "      <td>NaN</td>\n",
              "      <td>NaN</td>\n",
              "      <td>NaN</td>\n",
              "      <td>Kolkata Knight Riders</td>\n",
              "      <td>Royal Challengers Bangalore</td>\n",
              "    </tr>\n",
              "  </tbody>\n",
              "</table>\n",
              "</div>"
            ],
            "text/plain": [
              "       id  inning  ...           batting_team                 bowling_team\n",
              "0  335982       1  ...  Kolkata Knight Riders  Royal Challengers Bangalore\n",
              "1  335982       1  ...  Kolkata Knight Riders  Royal Challengers Bangalore\n",
              "2  335982       1  ...  Kolkata Knight Riders  Royal Challengers Bangalore\n",
              "3  335982       1  ...  Kolkata Knight Riders  Royal Challengers Bangalore\n",
              "4  335982       1  ...  Kolkata Knight Riders  Royal Challengers Bangalore\n",
              "\n",
              "[5 rows x 18 columns]"
            ]
          },
          "metadata": {
            "tags": []
          },
          "execution_count": 9
        }
      ]
    },
    {
      "cell_type": "code",
      "metadata": {
        "colab": {
          "base_uri": "https://localhost:8080/"
        },
        "id": "I7vRCIK36jyw",
        "outputId": "4e48438e-03cf-4d51-abaa-fb29e83ed282"
      },
      "source": [
        "ball_by_ball.shape"
      ],
      "execution_count": 10,
      "outputs": [
        {
          "output_type": "execute_result",
          "data": {
            "text/plain": [
              "(178687, 18)"
            ]
          },
          "metadata": {
            "tags": []
          },
          "execution_count": 10
        }
      ]
    },
    {
      "cell_type": "code",
      "metadata": {
        "colab": {
          "base_uri": "https://localhost:8080/"
        },
        "id": "RNLKTPC962RP",
        "outputId": "7006bfdf-65c5-426f-da6b-445fd21c1f94"
      },
      "source": [
        "ball_by_ball.columns"
      ],
      "execution_count": 11,
      "outputs": [
        {
          "output_type": "execute_result",
          "data": {
            "text/plain": [
              "Index(['id', 'inning', 'over', 'ball', 'batsman', 'non_striker', 'bowler',\n",
              "       'batsman_runs', 'extra_runs', 'total_runs', 'non_boundary', 'is_wicket',\n",
              "       'dismissal_kind', 'player_dismissed', 'fielder', 'extras_type',\n",
              "       'batting_team', 'bowling_team'],\n",
              "      dtype='object')"
            ]
          },
          "metadata": {
            "tags": []
          },
          "execution_count": 11
        }
      ]
    },
    {
      "cell_type": "code",
      "metadata": {
        "colab": {
          "base_uri": "https://localhost:8080/"
        },
        "id": "vZm0McBqDc1M",
        "outputId": "3381dd77-354e-410d-97a2-d4079e7c1bb1"
      },
      "source": [
        "ball_by_ball.info()"
      ],
      "execution_count": 12,
      "outputs": [
        {
          "output_type": "stream",
          "text": [
            "<class 'pandas.core.frame.DataFrame'>\n",
            "RangeIndex: 178687 entries, 0 to 178686\n",
            "Data columns (total 18 columns):\n",
            " #   Column            Non-Null Count   Dtype  \n",
            "---  ------            --------------   -----  \n",
            " 0   id                178687 non-null  int64  \n",
            " 1   inning            178687 non-null  int64  \n",
            " 2   over              178687 non-null  int64  \n",
            " 3   ball              178687 non-null  int64  \n",
            " 4   batsman           178687 non-null  object \n",
            " 5   non_striker       178686 non-null  object \n",
            " 6   bowler            178686 non-null  object \n",
            " 7   batsman_runs      178686 non-null  float64\n",
            " 8   extra_runs        178686 non-null  float64\n",
            " 9   total_runs        178686 non-null  float64\n",
            " 10  non_boundary      178686 non-null  float64\n",
            " 11  is_wicket         178686 non-null  float64\n",
            " 12  dismissal_kind    8810 non-null    object \n",
            " 13  player_dismissed  8810 non-null    object \n",
            " 14  fielder           6322 non-null    object \n",
            " 15  extras_type       9524 non-null    object \n",
            " 16  batting_team      178686 non-null  object \n",
            " 17  bowling_team      178495 non-null  object \n",
            "dtypes: float64(5), int64(4), object(9)\n",
            "memory usage: 24.5+ MB\n"
          ],
          "name": "stdout"
        }
      ]
    },
    {
      "cell_type": "code",
      "metadata": {
        "colab": {
          "base_uri": "https://localhost:8080/",
          "height": 295
        },
        "id": "wtchbKBgEPp7",
        "outputId": "a5c5c9ab-acf8-4d0d-c202-11bcca82400f"
      },
      "source": [
        "ball_by_ball.describe()"
      ],
      "execution_count": 13,
      "outputs": [
        {
          "output_type": "execute_result",
          "data": {
            "text/html": [
              "<div>\n",
              "<style scoped>\n",
              "    .dataframe tbody tr th:only-of-type {\n",
              "        vertical-align: middle;\n",
              "    }\n",
              "\n",
              "    .dataframe tbody tr th {\n",
              "        vertical-align: top;\n",
              "    }\n",
              "\n",
              "    .dataframe thead th {\n",
              "        text-align: right;\n",
              "    }\n",
              "</style>\n",
              "<table border=\"1\" class=\"dataframe\">\n",
              "  <thead>\n",
              "    <tr style=\"text-align: right;\">\n",
              "      <th></th>\n",
              "      <th>id</th>\n",
              "      <th>inning</th>\n",
              "      <th>over</th>\n",
              "      <th>ball</th>\n",
              "      <th>batsman_runs</th>\n",
              "      <th>extra_runs</th>\n",
              "      <th>total_runs</th>\n",
              "      <th>non_boundary</th>\n",
              "      <th>is_wicket</th>\n",
              "    </tr>\n",
              "  </thead>\n",
              "  <tbody>\n",
              "    <tr>\n",
              "      <th>count</th>\n",
              "      <td>1.786870e+05</td>\n",
              "      <td>178687.000000</td>\n",
              "      <td>178687.000000</td>\n",
              "      <td>178687.000000</td>\n",
              "      <td>178686.000000</td>\n",
              "      <td>178686.000000</td>\n",
              "      <td>178686.000000</td>\n",
              "      <td>178686.000000</td>\n",
              "      <td>178686.000000</td>\n",
              "    </tr>\n",
              "    <tr>\n",
              "      <th>mean</th>\n",
              "      <td>7.186777e+05</td>\n",
              "      <td>1.481759</td>\n",
              "      <td>9.166492</td>\n",
              "      <td>3.615618</td>\n",
              "      <td>1.237534</td>\n",
              "      <td>0.067090</td>\n",
              "      <td>1.304624</td>\n",
              "      <td>0.000078</td>\n",
              "      <td>0.049304</td>\n",
              "    </tr>\n",
              "    <tr>\n",
              "      <th>std</th>\n",
              "      <td>2.871420e+05</td>\n",
              "      <td>0.499669</td>\n",
              "      <td>5.674845</td>\n",
              "      <td>1.806890</td>\n",
              "      <td>1.609678</td>\n",
              "      <td>0.342703</td>\n",
              "      <td>1.597758</td>\n",
              "      <td>0.008851</td>\n",
              "      <td>0.216503</td>\n",
              "    </tr>\n",
              "    <tr>\n",
              "      <th>min</th>\n",
              "      <td>3.359820e+05</td>\n",
              "      <td>1.000000</td>\n",
              "      <td>0.000000</td>\n",
              "      <td>1.000000</td>\n",
              "      <td>0.000000</td>\n",
              "      <td>0.000000</td>\n",
              "      <td>0.000000</td>\n",
              "      <td>0.000000</td>\n",
              "      <td>0.000000</td>\n",
              "    </tr>\n",
              "    <tr>\n",
              "      <th>25%</th>\n",
              "      <td>5.012110e+05</td>\n",
              "      <td>1.000000</td>\n",
              "      <td>4.000000</td>\n",
              "      <td>2.000000</td>\n",
              "      <td>0.000000</td>\n",
              "      <td>0.000000</td>\n",
              "      <td>0.000000</td>\n",
              "      <td>0.000000</td>\n",
              "      <td>0.000000</td>\n",
              "    </tr>\n",
              "    <tr>\n",
              "      <th>50%</th>\n",
              "      <td>5.980520e+05</td>\n",
              "      <td>1.000000</td>\n",
              "      <td>9.000000</td>\n",
              "      <td>4.000000</td>\n",
              "      <td>1.000000</td>\n",
              "      <td>0.000000</td>\n",
              "      <td>1.000000</td>\n",
              "      <td>0.000000</td>\n",
              "      <td>0.000000</td>\n",
              "    </tr>\n",
              "    <tr>\n",
              "      <th>75%</th>\n",
              "      <td>9.809990e+05</td>\n",
              "      <td>2.000000</td>\n",
              "      <td>14.000000</td>\n",
              "      <td>5.000000</td>\n",
              "      <td>1.000000</td>\n",
              "      <td>0.000000</td>\n",
              "      <td>1.000000</td>\n",
              "      <td>0.000000</td>\n",
              "      <td>0.000000</td>\n",
              "    </tr>\n",
              "    <tr>\n",
              "      <th>max</th>\n",
              "      <td>1.181767e+06</td>\n",
              "      <td>2.000000</td>\n",
              "      <td>19.000000</td>\n",
              "      <td>9.000000</td>\n",
              "      <td>6.000000</td>\n",
              "      <td>7.000000</td>\n",
              "      <td>7.000000</td>\n",
              "      <td>1.000000</td>\n",
              "      <td>1.000000</td>\n",
              "    </tr>\n",
              "  </tbody>\n",
              "</table>\n",
              "</div>"
            ],
            "text/plain": [
              "                 id         inning  ...   non_boundary      is_wicket\n",
              "count  1.786870e+05  178687.000000  ...  178686.000000  178686.000000\n",
              "mean   7.186777e+05       1.481759  ...       0.000078       0.049304\n",
              "std    2.871420e+05       0.499669  ...       0.008851       0.216503\n",
              "min    3.359820e+05       1.000000  ...       0.000000       0.000000\n",
              "25%    5.012110e+05       1.000000  ...       0.000000       0.000000\n",
              "50%    5.980520e+05       1.000000  ...       0.000000       0.000000\n",
              "75%    9.809990e+05       2.000000  ...       0.000000       0.000000\n",
              "max    1.181767e+06       2.000000  ...       1.000000       1.000000\n",
              "\n",
              "[8 rows x 9 columns]"
            ]
          },
          "metadata": {
            "tags": []
          },
          "execution_count": 13
        }
      ]
    },
    {
      "cell_type": "code",
      "metadata": {
        "colab": {
          "base_uri": "https://localhost:8080/"
        },
        "id": "OBal71Zt6VLH",
        "outputId": "2fd2e12c-9d7e-40d7-f940-172f174bfec5"
      },
      "source": [
        "ball_by_ball.isnull().sum()"
      ],
      "execution_count": 14,
      "outputs": [
        {
          "output_type": "execute_result",
          "data": {
            "text/plain": [
              "id                       0\n",
              "inning                   0\n",
              "over                     0\n",
              "ball                     0\n",
              "batsman                  0\n",
              "non_striker              1\n",
              "bowler                   1\n",
              "batsman_runs             1\n",
              "extra_runs               1\n",
              "total_runs               1\n",
              "non_boundary             1\n",
              "is_wicket                1\n",
              "dismissal_kind      169877\n",
              "player_dismissed    169877\n",
              "fielder             172365\n",
              "extras_type         169163\n",
              "batting_team             1\n",
              "bowling_team           192\n",
              "dtype: int64"
            ]
          },
          "metadata": {
            "tags": []
          },
          "execution_count": 14
        }
      ]
    },
    {
      "cell_type": "markdown",
      "metadata": {
        "id": "YaBR0FmkEofz"
      },
      "source": [
        "Analysing the Dataset"
      ]
    },
    {
      "cell_type": "code",
      "metadata": {
        "colab": {
          "base_uri": "https://localhost:8080/",
          "height": 425
        },
        "id": "qGHb0SY2-dV5",
        "outputId": "71121624-608d-4f53-ba03-7e6334134fce"
      },
      "source": [
        "match['season'] = pd.DatetimeIndex(match['date']).year\n",
        "match.head()"
      ],
      "execution_count": 15,
      "outputs": [
        {
          "output_type": "execute_result",
          "data": {
            "text/html": [
              "<div>\n",
              "<style scoped>\n",
              "    .dataframe tbody tr th:only-of-type {\n",
              "        vertical-align: middle;\n",
              "    }\n",
              "\n",
              "    .dataframe tbody tr th {\n",
              "        vertical-align: top;\n",
              "    }\n",
              "\n",
              "    .dataframe thead th {\n",
              "        text-align: right;\n",
              "    }\n",
              "</style>\n",
              "<table border=\"1\" class=\"dataframe\">\n",
              "  <thead>\n",
              "    <tr style=\"text-align: right;\">\n",
              "      <th></th>\n",
              "      <th>id</th>\n",
              "      <th>city</th>\n",
              "      <th>date</th>\n",
              "      <th>player_of_match</th>\n",
              "      <th>venue</th>\n",
              "      <th>neutral_venue</th>\n",
              "      <th>team1</th>\n",
              "      <th>team2</th>\n",
              "      <th>toss_winner</th>\n",
              "      <th>toss_decision</th>\n",
              "      <th>winner</th>\n",
              "      <th>result</th>\n",
              "      <th>result_margin</th>\n",
              "      <th>eliminator</th>\n",
              "      <th>method</th>\n",
              "      <th>umpire1</th>\n",
              "      <th>umpire2</th>\n",
              "      <th>season</th>\n",
              "    </tr>\n",
              "  </thead>\n",
              "  <tbody>\n",
              "    <tr>\n",
              "      <th>0</th>\n",
              "      <td>335982</td>\n",
              "      <td>Bangalore</td>\n",
              "      <td>18-04-2008</td>\n",
              "      <td>BB McCullum</td>\n",
              "      <td>M Chinnaswamy Stadium</td>\n",
              "      <td>0</td>\n",
              "      <td>Royal Challengers Bangalore</td>\n",
              "      <td>Kolkata Knight Riders</td>\n",
              "      <td>Royal Challengers Bangalore</td>\n",
              "      <td>field</td>\n",
              "      <td>Kolkata Knight Riders</td>\n",
              "      <td>runs</td>\n",
              "      <td>140.0</td>\n",
              "      <td>N</td>\n",
              "      <td>NaN</td>\n",
              "      <td>Asad Rauf</td>\n",
              "      <td>RE Koertzen</td>\n",
              "      <td>2008</td>\n",
              "    </tr>\n",
              "    <tr>\n",
              "      <th>1</th>\n",
              "      <td>335983</td>\n",
              "      <td>Chandigarh</td>\n",
              "      <td>19-04-2008</td>\n",
              "      <td>MEK Hussey</td>\n",
              "      <td>Punjab Cricket Association Stadium, Mohali</td>\n",
              "      <td>0</td>\n",
              "      <td>Kings XI Punjab</td>\n",
              "      <td>Chennai Super Kings</td>\n",
              "      <td>Chennai Super Kings</td>\n",
              "      <td>bat</td>\n",
              "      <td>Chennai Super Kings</td>\n",
              "      <td>runs</td>\n",
              "      <td>33.0</td>\n",
              "      <td>N</td>\n",
              "      <td>NaN</td>\n",
              "      <td>MR Benson</td>\n",
              "      <td>SL Shastri</td>\n",
              "      <td>2008</td>\n",
              "    </tr>\n",
              "    <tr>\n",
              "      <th>2</th>\n",
              "      <td>335984</td>\n",
              "      <td>Delhi</td>\n",
              "      <td>19-04-2008</td>\n",
              "      <td>MF Maharoof</td>\n",
              "      <td>Feroz Shah Kotla</td>\n",
              "      <td>0</td>\n",
              "      <td>Delhi Daredevils</td>\n",
              "      <td>Rajasthan Royals</td>\n",
              "      <td>Rajasthan Royals</td>\n",
              "      <td>bat</td>\n",
              "      <td>Delhi Daredevils</td>\n",
              "      <td>wickets</td>\n",
              "      <td>9.0</td>\n",
              "      <td>N</td>\n",
              "      <td>NaN</td>\n",
              "      <td>Aleem Dar</td>\n",
              "      <td>GA Pratapkumar</td>\n",
              "      <td>2008</td>\n",
              "    </tr>\n",
              "    <tr>\n",
              "      <th>3</th>\n",
              "      <td>335985</td>\n",
              "      <td>Mumbai</td>\n",
              "      <td>20-04-2008</td>\n",
              "      <td>MV Boucher</td>\n",
              "      <td>Wankhede Stadium</td>\n",
              "      <td>0</td>\n",
              "      <td>Mumbai Indians</td>\n",
              "      <td>Royal Challengers Bangalore</td>\n",
              "      <td>Mumbai Indians</td>\n",
              "      <td>bat</td>\n",
              "      <td>Royal Challengers Bangalore</td>\n",
              "      <td>wickets</td>\n",
              "      <td>5.0</td>\n",
              "      <td>N</td>\n",
              "      <td>NaN</td>\n",
              "      <td>SJ Davis</td>\n",
              "      <td>DJ Harper</td>\n",
              "      <td>2008</td>\n",
              "    </tr>\n",
              "    <tr>\n",
              "      <th>4</th>\n",
              "      <td>335986</td>\n",
              "      <td>Kolkata</td>\n",
              "      <td>20-04-2008</td>\n",
              "      <td>DJ Hussey</td>\n",
              "      <td>Eden Gardens</td>\n",
              "      <td>0</td>\n",
              "      <td>Kolkata Knight Riders</td>\n",
              "      <td>Deccan Chargers</td>\n",
              "      <td>Deccan Chargers</td>\n",
              "      <td>bat</td>\n",
              "      <td>Kolkata Knight Riders</td>\n",
              "      <td>wickets</td>\n",
              "      <td>5.0</td>\n",
              "      <td>N</td>\n",
              "      <td>NaN</td>\n",
              "      <td>BF Bowden</td>\n",
              "      <td>K Hariharan</td>\n",
              "      <td>2008</td>\n",
              "    </tr>\n",
              "  </tbody>\n",
              "</table>\n",
              "</div>"
            ],
            "text/plain": [
              "       id        city        date  ...    umpire1         umpire2  season\n",
              "0  335982   Bangalore  18-04-2008  ...  Asad Rauf     RE Koertzen    2008\n",
              "1  335983  Chandigarh  19-04-2008  ...  MR Benson      SL Shastri    2008\n",
              "2  335984       Delhi  19-04-2008  ...  Aleem Dar  GA Pratapkumar    2008\n",
              "3  335985      Mumbai  20-04-2008  ...   SJ Davis       DJ Harper    2008\n",
              "4  335986     Kolkata  20-04-2008  ...  BF Bowden     K Hariharan    2008\n",
              "\n",
              "[5 rows x 18 columns]"
            ]
          },
          "metadata": {
            "tags": []
          },
          "execution_count": 15
        }
      ]
    },
    {
      "cell_type": "code",
      "metadata": {
        "colab": {
          "base_uri": "https://localhost:8080/"
        },
        "id": "T9QPcoziEJaU",
        "outputId": "482b8176-a525-4c34-9fd0-39658d89d9a8"
      },
      "source": [
        "match.columns"
      ],
      "execution_count": 16,
      "outputs": [
        {
          "output_type": "execute_result",
          "data": {
            "text/plain": [
              "Index(['id', 'city', 'date', 'player_of_match', 'venue', 'neutral_venue',\n",
              "       'team1', 'team2', 'toss_winner', 'toss_decision', 'winner', 'result',\n",
              "       'result_margin', 'eliminator', 'method', 'umpire1', 'umpire2',\n",
              "       'season'],\n",
              "      dtype='object')"
            ]
          },
          "metadata": {
            "tags": []
          },
          "execution_count": 16
        }
      ]
    },
    {
      "cell_type": "code",
      "metadata": {
        "colab": {
          "base_uri": "https://localhost:8080/"
        },
        "id": "JlVPfEmc67GA",
        "outputId": "8a2b1fcf-9b1c-4ec9-d27d-e393dc3521c6"
      },
      "source": [
        "print('Total Matches Played: ', match.shape[0])"
      ],
      "execution_count": 17,
      "outputs": [
        {
          "output_type": "stream",
          "text": [
            "Total Matches Played:  816\n"
          ],
          "name": "stdout"
        }
      ]
    },
    {
      "cell_type": "code",
      "metadata": {
        "colab": {
          "base_uri": "https://localhost:8080/"
        },
        "id": "vL2Yp1N07Qe_",
        "outputId": "ef57dbfc-96e4-4206-d674-a44f12228382"
      },
      "source": [
        "cities = match['city'].unique()\n",
        "print('Cities in which Matches were played: ')\n",
        "for city in cities:\n",
        "  print(city)"
      ],
      "execution_count": 18,
      "outputs": [
        {
          "output_type": "stream",
          "text": [
            "Cities in which Matches were played: \n",
            "Bangalore\n",
            "Chandigarh\n",
            "Delhi\n",
            "Mumbai\n",
            "Kolkata\n",
            "Jaipur\n",
            "Hyderabad\n",
            "Chennai\n",
            "Cape Town\n",
            "Port Elizabeth\n",
            "Durban\n",
            "Centurion\n",
            "East London\n",
            "Johannesburg\n",
            "Kimberley\n",
            "Bloemfontein\n",
            "Ahmedabad\n",
            "Cuttack\n",
            "Nagpur\n",
            "Dharamsala\n",
            "Kochi\n",
            "Indore\n",
            "Visakhapatnam\n",
            "Pune\n",
            "Raipur\n",
            "Ranchi\n",
            "Abu Dhabi\n",
            "nan\n",
            "Rajkot\n",
            "Kanpur\n",
            "Bengaluru\n",
            "Dubai\n",
            "Sharjah\n"
          ],
          "name": "stdout"
        }
      ]
    },
    {
      "cell_type": "code",
      "metadata": {
        "colab": {
          "base_uri": "https://localhost:8080/"
        },
        "id": "Gz7tyJ88GW4w",
        "outputId": "000f4923-f1c6-4e82-d534-cc558148701d"
      },
      "source": [
        "cities_matches_played = match['city'].value_counts()\n",
        "cities_matches_played"
      ],
      "execution_count": 19,
      "outputs": [
        {
          "output_type": "execute_result",
          "data": {
            "text/plain": [
              "Mumbai            101\n",
              "Kolkata            77\n",
              "Delhi              74\n",
              "Bangalore          65\n",
              "Hyderabad          64\n",
              "Chennai            57\n",
              "Chandigarh         56\n",
              "Jaipur             47\n",
              "Pune               38\n",
              "Abu Dhabi          29\n",
              "Dubai              26\n",
              "Bengaluru          15\n",
              "Durban             15\n",
              "Visakhapatnam      13\n",
              "Centurion          12\n",
              "Sharjah            12\n",
              "Ahmedabad          12\n",
              "Rajkot             10\n",
              "Dharamsala          9\n",
              "Indore              9\n",
              "Johannesburg        8\n",
              "Ranchi              7\n",
              "Cape Town           7\n",
              "Cuttack             7\n",
              "Port Elizabeth      7\n",
              "Raipur              6\n",
              "Kochi               5\n",
              "Kanpur              4\n",
              "Kimberley           3\n",
              "East London         3\n",
              "Nagpur              3\n",
              "Bloemfontein        2\n",
              "Name: city, dtype: int64"
            ]
          },
          "metadata": {
            "tags": []
          },
          "execution_count": 19
        }
      ]
    },
    {
      "cell_type": "code",
      "metadata": {
        "colab": {
          "base_uri": "https://localhost:8080/",
          "height": 477
        },
        "id": "dcbm5VshKnie",
        "outputId": "aa775e04-4474-49af-f1ed-8ad2a3de5bb6"
      },
      "source": [
        "plt.figure(figsize = (18, 6))\n",
        "sns.barplot(cities_matches_played.index, cities_matches_played, palette = 'Accent')\n",
        "plt.xticks(rotation = 90, fontsize = 10)\n",
        "plt.yticks(fontsize = 10)\n",
        "plt.xlabel('City', fontsize = 12)\n",
        "plt.ylabel('No of Matches', fontsize = 12)\n",
        "plt.title('No of Matches played in each City', fontsize = 16)\n",
        "plt.show()"
      ],
      "execution_count": 20,
      "outputs": [
        {
          "output_type": "display_data",
          "data": {
            "image/png": "[encoded data removed]",
            "text/plain": [
              "<Figure size 1296x432 with 1 Axes>"
            ]
          },
          "metadata": {
            "tags": [],
            "needs_background": "light"
          }
        }
      ]
    },
    {
      "cell_type": "code",
      "metadata": {
        "colab": {
          "base_uri": "https://localhost:8080/"
        },
        "id": "GSblzLWt9FeZ",
        "outputId": "b9db7492-6161-4551-8fb0-10ae88aa7923"
      },
      "source": [
        "stadiums = match['venue'].unique()\n",
        "print('The Stadiums where the Matches were played: ')\n",
        "for stadium in stadiums:\n",
        "  print(stadium)"
      ],
      "execution_count": 21,
      "outputs": [
        {
          "output_type": "stream",
          "text": [
            "The Stadiums where the Matches were played: \n",
            "M Chinnaswamy Stadium\n",
            "Punjab Cricket Association Stadium, Mohali\n",
            "Feroz Shah Kotla\n",
            "Wankhede Stadium\n",
            "Eden Gardens\n",
            "Sawai Mansingh Stadium\n",
            "Rajiv Gandhi International Stadium, Uppal\n",
            "MA Chidambaram Stadium, Chepauk\n",
            "Dr DY Patil Sports Academy\n",
            "Newlands\n",
            "St George's Park\n",
            "Kingsmead\n",
            "SuperSport Park\n",
            "Buffalo Park\n",
            "New Wanderers Stadium\n",
            "De Beers Diamond Oval\n",
            "OUTsurance Oval\n",
            "Brabourne Stadium\n",
            "Sardar Patel Stadium, Motera\n",
            "Barabati Stadium\n",
            "Vidarbha Cricket Association Stadium, Jamtha\n",
            "Himachal Pradesh Cricket Association Stadium\n",
            "Nehru Stadium\n",
            "Holkar Cricket Stadium\n",
            "Dr. Y.S. Rajasekhara Reddy ACA-VDCA Cricket Stadium\n",
            "Subrata Roy Sahara Stadium\n",
            "Shaheed Veer Narayan Singh International Stadium\n",
            "JSCA International Stadium Complex\n",
            "Sheikh Zayed Stadium\n",
            "Sharjah Cricket Stadium\n",
            "Dubai International Cricket Stadium\n",
            "Maharashtra Cricket Association Stadium\n",
            "Punjab Cricket Association IS Bindra Stadium, Mohali\n",
            "Saurashtra Cricket Association Stadium\n",
            "Green Park\n",
            "M.Chinnaswamy Stadium\n"
          ],
          "name": "stdout"
        }
      ]
    },
    {
      "cell_type": "code",
      "metadata": {
        "colab": {
          "base_uri": "https://localhost:8080/"
        },
        "id": "IT_GAD-YFgd8",
        "outputId": "f4bd4ff9-0069-4f3b-e86e-6e397d738b8c"
      },
      "source": [
        "stadiums_matches_played = match['venue'].value_counts()\n",
        "stadiums_matches_played"
      ],
      "execution_count": 22,
      "outputs": [
        {
          "output_type": "execute_result",
          "data": {
            "text/plain": [
              "Eden Gardens                                            77\n",
              "Feroz Shah Kotla                                        74\n",
              "Wankhede Stadium                                        73\n",
              "M Chinnaswamy Stadium                                   65\n",
              "Rajiv Gandhi International Stadium, Uppal               64\n",
              "MA Chidambaram Stadium, Chepauk                         57\n",
              "Sawai Mansingh Stadium                                  47\n",
              "Punjab Cricket Association Stadium, Mohali              35\n",
              "Dubai International Cricket Stadium                     33\n",
              "Sheikh Zayed Stadium                                    29\n",
              "Maharashtra Cricket Association Stadium                 21\n",
              "Punjab Cricket Association IS Bindra Stadium, Mohali    21\n",
              "Sharjah Cricket Stadium                                 18\n",
              "Dr DY Patil Sports Academy                              17\n",
              "Subrata Roy Sahara Stadium                              17\n",
              "Kingsmead                                               15\n",
              "M.Chinnaswamy Stadium                                   15\n",
              "Dr. Y.S. Rajasekhara Reddy ACA-VDCA Cricket Stadium     13\n",
              "Sardar Patel Stadium, Motera                            12\n",
              "SuperSport Park                                         12\n",
              "Brabourne Stadium                                       11\n",
              "Saurashtra Cricket Association Stadium                  10\n",
              "Holkar Cricket Stadium                                   9\n",
              "Himachal Pradesh Cricket Association Stadium             9\n",
              "New Wanderers Stadium                                    8\n",
              "JSCA International Stadium Complex                       7\n",
              "St George's Park                                         7\n",
              "Newlands                                                 7\n",
              "Barabati Stadium                                         7\n",
              "Shaheed Veer Narayan Singh International Stadium         6\n",
              "Nehru Stadium                                            5\n",
              "Green Park                                               4\n",
              "Buffalo Park                                             3\n",
              "Vidarbha Cricket Association Stadium, Jamtha             3\n",
              "De Beers Diamond Oval                                    3\n",
              "OUTsurance Oval                                          2\n",
              "Name: venue, dtype: int64"
            ]
          },
          "metadata": {
            "tags": []
          },
          "execution_count": 22
        }
      ]
    },
    {
      "cell_type": "code",
      "metadata": {
        "colab": {
          "base_uri": "https://localhost:8080/",
          "height": 669
        },
        "id": "LvtnjkhXL-ag",
        "outputId": "e9c0a9d4-4119-4525-d8ed-12319b3b9a07"
      },
      "source": [
        "plt.figure(figsize = (18, 6))\n",
        "sns.barplot(stadiums_matches_played.index, stadiums_matches_played, palette = 'Accent')\n",
        "plt.xticks(rotation = 90, fontsize = 10)\n",
        "plt.yticks(fontsize = 10)\n",
        "plt.xlabel('Stadium', fontsize = 12)\n",
        "plt.ylabel('No of Matches', fontsize = 12)\n",
        "plt.title('No of Matches played in each Stadium', fontsize = 16)\n",
        "plt.show()"
      ],
      "execution_count": 23,
      "outputs": [
        {
          "output_type": "display_data",
          "data": {
            "image/png": "[encoded data removed]",
            "text/plain": [
              "<Figure size 1296x432 with 1 Axes>"
            ]
          },
          "metadata": {
            "tags": [],
            "needs_background": "light"
          }
        }
      ]
    },
    {
      "cell_type": "code",
      "metadata": {
        "colab": {
          "base_uri": "https://localhost:8080/"
        },
        "id": "cccYoZtA7qbf",
        "outputId": "21e13cdb-f67a-40cb-c1c4-3ce6bcdda15d"
      },
      "source": [
        "teams = match['team1'].unique()\n",
        "print(\"The teams that participated in the tournament: \")\n",
        "for team in teams:\n",
        "  print(team)"
      ],
      "execution_count": 24,
      "outputs": [
        {
          "output_type": "stream",
          "text": [
            "The teams that participated in the tournament: \n",
            "Royal Challengers Bangalore\n",
            "Kings XI Punjab\n",
            "Delhi Daredevils\n",
            "Mumbai Indians\n",
            "Kolkata Knight Riders\n",
            "Rajasthan Royals\n",
            "Deccan Chargers\n",
            "Chennai Super Kings\n",
            "Kochi Tuskers Kerala\n",
            "Pune Warriors\n",
            "Sunrisers Hyderabad\n",
            "Gujarat Lions\n",
            "Rising Pune Supergiants\n",
            "Rising Pune Supergiant\n",
            "Delhi Capitals\n"
          ],
          "name": "stdout"
        }
      ]
    },
    {
      "cell_type": "code",
      "metadata": {
        "colab": {
          "base_uri": "https://localhost:8080/",
          "height": 450
        },
        "id": "rrd-Bdm0cJRo",
        "outputId": "d0b575a4-5335-4131-b66c-a412c1cc18e9"
      },
      "source": [
        "season_matches = match.groupby(['season'])['id'].count().reset_index().rename(columns={'id' : 'matches'})\n",
        "season_matches"
      ],
      "execution_count": 25,
      "outputs": [
        {
          "output_type": "execute_result",
          "data": {
            "text/html": [
              "<div>\n",
              "<style scoped>\n",
              "    .dataframe tbody tr th:only-of-type {\n",
              "        vertical-align: middle;\n",
              "    }\n",
              "\n",
              "    .dataframe tbody tr th {\n",
              "        vertical-align: top;\n",
              "    }\n",
              "\n",
              "    .dataframe thead th {\n",
              "        text-align: right;\n",
              "    }\n",
              "</style>\n",
              "<table border=\"1\" class=\"dataframe\">\n",
              "  <thead>\n",
              "    <tr style=\"text-align: right;\">\n",
              "      <th></th>\n",
              "      <th>season</th>\n",
              "      <th>matches</th>\n",
              "    </tr>\n",
              "  </thead>\n",
              "  <tbody>\n",
              "    <tr>\n",
              "      <th>0</th>\n",
              "      <td>2008</td>\n",
              "      <td>58</td>\n",
              "    </tr>\n",
              "    <tr>\n",
              "      <th>1</th>\n",
              "      <td>2009</td>\n",
              "      <td>57</td>\n",
              "    </tr>\n",
              "    <tr>\n",
              "      <th>2</th>\n",
              "      <td>2010</td>\n",
              "      <td>60</td>\n",
              "    </tr>\n",
              "    <tr>\n",
              "      <th>3</th>\n",
              "      <td>2011</td>\n",
              "      <td>73</td>\n",
              "    </tr>\n",
              "    <tr>\n",
              "      <th>4</th>\n",
              "      <td>2012</td>\n",
              "      <td>74</td>\n",
              "    </tr>\n",
              "    <tr>\n",
              "      <th>5</th>\n",
              "      <td>2013</td>\n",
              "      <td>76</td>\n",
              "    </tr>\n",
              "    <tr>\n",
              "      <th>6</th>\n",
              "      <td>2014</td>\n",
              "      <td>60</td>\n",
              "    </tr>\n",
              "    <tr>\n",
              "      <th>7</th>\n",
              "      <td>2015</td>\n",
              "      <td>59</td>\n",
              "    </tr>\n",
              "    <tr>\n",
              "      <th>8</th>\n",
              "      <td>2016</td>\n",
              "      <td>60</td>\n",
              "    </tr>\n",
              "    <tr>\n",
              "      <th>9</th>\n",
              "      <td>2017</td>\n",
              "      <td>59</td>\n",
              "    </tr>\n",
              "    <tr>\n",
              "      <th>10</th>\n",
              "      <td>2018</td>\n",
              "      <td>60</td>\n",
              "    </tr>\n",
              "    <tr>\n",
              "      <th>11</th>\n",
              "      <td>2019</td>\n",
              "      <td>60</td>\n",
              "    </tr>\n",
              "    <tr>\n",
              "      <th>12</th>\n",
              "      <td>2020</td>\n",
              "      <td>60</td>\n",
              "    </tr>\n",
              "  </tbody>\n",
              "</table>\n",
              "</div>"
            ],
            "text/plain": [
              "    season  matches\n",
              "0     2008       58\n",
              "1     2009       57\n",
              "2     2010       60\n",
              "3     2011       73\n",
              "4     2012       74\n",
              "5     2013       76\n",
              "6     2014       60\n",
              "7     2015       59\n",
              "8     2016       60\n",
              "9     2017       59\n",
              "10    2018       60\n",
              "11    2019       60\n",
              "12    2020       60"
            ]
          },
          "metadata": {
            "tags": []
          },
          "execution_count": 25
        }
      ]
    },
    {
      "cell_type": "code",
      "metadata": {
        "colab": {
          "base_uri": "https://localhost:8080/",
          "height": 409
        },
        "id": "Nb7CoUucANdy",
        "outputId": "c53b62be-fea1-40c8-b8d3-1fda95455775"
      },
      "source": [
        "plt.figure(figsize = (15, 6))\n",
        "sns.countplot(x = match['season'], palette = 'Accent')\n",
        "plt.xticks(fontsize = 10)\n",
        "plt.yticks(fontsize = 10)\n",
        "plt.xlabel('Matches Played', fontsize = 12)\n",
        "plt.ylabel('Season', fontsize = 12)\n",
        "plt.title('Matches Played in Each Season', fontsize = 16)\n",
        "plt.show()"
      ],
      "execution_count": 26,
      "outputs": [
        {
          "output_type": "display_data",
          "data": {
            "image/png": "[encoded data removed]",
            "text/plain": [
              "<Figure size 1080x432 with 1 Axes>"
            ]
          },
          "metadata": {
            "tags": [],
            "needs_background": "light"
          }
        }
      ]
    },
    {
      "cell_type": "code",
      "metadata": {
        "colab": {
          "base_uri": "https://localhost:8080/"
        },
        "id": "M-_ZxO1QE2oZ",
        "outputId": "1cbe2cdb-628c-48ad-f8c0-6218b3a0d31e"
      },
      "source": [
        "toss_decisions = match['toss_decision'].unique()\n",
        "print('Toss Decision: ')\n",
        "for toss_decision in toss_decisions:\n",
        "  print(toss_decision)"
      ],
      "execution_count": 27,
      "outputs": [
        {
          "output_type": "stream",
          "text": [
            "Toss Decision: \n",
            "field\n",
            "bat\n"
          ],
          "name": "stdout"
        }
      ]
    },
    {
      "cell_type": "code",
      "metadata": {
        "colab": {
          "base_uri": "https://localhost:8080/"
        },
        "id": "rPykIErLFMp_",
        "outputId": "de3a047f-4a2d-4e61-d880-71de98d16cc8"
      },
      "source": [
        "total_toss_decisions = match['toss_decision'].value_counts()\n",
        "total_toss_decisions"
      ],
      "execution_count": 28,
      "outputs": [
        {
          "output_type": "execute_result",
          "data": {
            "text/plain": [
              "field    496\n",
              "bat      320\n",
              "Name: toss_decision, dtype: int64"
            ]
          },
          "metadata": {
            "tags": []
          },
          "execution_count": 28
        }
      ]
    },
    {
      "cell_type": "code",
      "metadata": {
        "colab": {
          "base_uri": "https://localhost:8080/",
          "height": 355
        },
        "id": "Phd1doeOFhys",
        "outputId": "9a48cba8-8b8f-453b-d058-db719e822909"
      },
      "source": [
        "plt.figure(figsize = (5, 5))\n",
        "sns.barplot(total_toss_decisions.index, total_toss_decisions, palette = 'Accent')\n",
        "plt.xticks(fontsize = 10)\n",
        "plt.yticks(fontsize = 10)\n",
        "plt.xlabel('Toss Decision', fontsize = 12)\n",
        "plt.ylabel('Total Number', fontsize = 12)\n",
        "plt.title('Total Number of Toss Decisions', fontsize = 16)\n",
        "plt.show()"
      ],
      "execution_count": 29,
      "outputs": [
        {
          "output_type": "display_data",
          "data": {
            "image/png": "[encoded data removed]",
            "text/plain": [
              "<Figure size 360x360 with 1 Axes>"
            ]
          },
          "metadata": {
            "tags": [],
            "needs_background": "light"
          }
        }
      ]
    },
    {
      "cell_type": "code",
      "metadata": {
        "colab": {
          "base_uri": "https://localhost:8080/",
          "height": 409
        },
        "id": "XQHlgfsGIoE-",
        "outputId": "692e930c-4a54-44ea-f8bc-b4a0cb9aa4e6"
      },
      "source": [
        "plt.figure(figsize = (18, 6))\n",
        "sns.countplot(x = 'season', data = match, hue = 'toss_decision', palette = \"Accent\")\n",
        "plt.xticks(fontsize = 10)\n",
        "plt.yticks(fontsize = 10)\n",
        "plt.xlabel('Season', fontsize = 12)\n",
        "plt.ylabel('Total Number', fontsize = 12)\n",
        "plt.title('Toss decision across Seasons', fontsize = 16)\n",
        "plt.show()"
      ],
      "execution_count": 30,
      "outputs": [
        {
          "output_type": "display_data",
          "data": {
            "image/png": "[encoded data removed]",
            "text/plain": [
              "<Figure size 1296x432 with 1 Axes>"
            ]
          },
          "metadata": {
            "tags": [],
            "needs_background": "light"
          }
        }
      ]
    },
    {
      "cell_type": "code",
      "metadata": {
        "colab": {
          "base_uri": "https://localhost:8080/"
        },
        "id": "yG_TsBQJG_sC",
        "outputId": "78c13228-188b-480d-9032-d829a4a7b2ef"
      },
      "source": [
        "total_toss_won = match['toss_winner'].value_counts()\n",
        "total_toss_won"
      ],
      "execution_count": 31,
      "outputs": [
        {
          "output_type": "execute_result",
          "data": {
            "text/plain": [
              "Mumbai Indians                 106\n",
              "Kolkata Knight Riders           98\n",
              "Chennai Super Kings             97\n",
              "Royal Challengers Bangalore     87\n",
              "Rajasthan Royals                87\n",
              "Kings XI Punjab                 85\n",
              "Delhi Daredevils                80\n",
              "Sunrisers Hyderabad             57\n",
              "Deccan Chargers                 43\n",
              "Delhi Capitals                  20\n",
              "Pune Warriors                   20\n",
              "Gujarat Lions                   15\n",
              "Kochi Tuskers Kerala             8\n",
              "Rising Pune Supergiants          7\n",
              "Rising Pune Supergiant           6\n",
              "Name: toss_winner, dtype: int64"
            ]
          },
          "metadata": {
            "tags": []
          },
          "execution_count": 31
        }
      ]
    },
    {
      "cell_type": "code",
      "metadata": {
        "colab": {
          "base_uri": "https://localhost:8080/",
          "height": 543
        },
        "id": "p737C147GHOX",
        "outputId": "0c314df0-d694-490f-b9d6-7347bdc23456"
      },
      "source": [
        "plt.figure(figsize = (15, 6))\n",
        "sns.barplot(total_toss_won.index, total_toss_won, palette = 'Accent')\n",
        "plt.xticks(rotation = 90, fontsize = 10)\n",
        "plt.yticks(fontsize = 10)\n",
        "plt.xlabel('Teams', fontsize = 12)\n",
        "plt.ylabel('Total Number', fontsize = 12)\n",
        "plt.title('Total Number of Toss Won by the Team', fontsize = 16)\n",
        "plt.show()"
      ],
      "execution_count": 32,
      "outputs": [
        {
          "output_type": "display_data",
          "data": {
            "image/png": "[encoded data removed]",
            "text/plain": [
              "<Figure size 1080x432 with 1 Axes>"
            ]
          },
          "metadata": {
            "tags": [],
            "needs_background": "light"
          }
        }
      ]
    },
    {
      "cell_type": "code",
      "metadata": {
        "colab": {
          "base_uri": "https://localhost:8080/",
          "height": 543
        },
        "id": "JwpV_sr5I7Bk",
        "outputId": "71a0a9cd-e569-43cb-84a4-ffa02b264188"
      },
      "source": [
        "plt.figure(figsize = (18, 6))\n",
        "sns.countplot(x = 'toss_winner', data = match, hue = 'toss_decision', palette = \"Accent\")\n",
        "plt.xticks(rotation = 90, fontsize = 10)\n",
        "plt.yticks(fontsize = 10)\n",
        "plt.xlabel('Season', fontsize = 12)\n",
        "plt.ylabel('Total Number', fontsize = 12)\n",
        "plt.title('Toss decision across Teams', fontsize = 16)\n",
        "plt.show()"
      ],
      "execution_count": 33,
      "outputs": [
        {
          "output_type": "display_data",
          "data": {
            "image/png": "[encoded data removed]",
            "text/plain": [
              "<Figure size 1296x432 with 1 Axes>"
            ]
          },
          "metadata": {
            "tags": [],
            "needs_background": "light"
          }
        }
      ]
    },
    {
      "cell_type": "code",
      "metadata": {
        "colab": {
          "base_uri": "https://localhost:8080/"
        },
        "id": "cgPLUu6xuNhh",
        "outputId": "056074eb-b622-4447-a725-3567abc596c5"
      },
      "source": [
        "match_winner = (match.winner == match.toss_winner)\n",
        "match_winner_count = match_winner.value_counts()\n",
        "match_winner_count"
      ],
      "execution_count": 34,
      "outputs": [
        {
          "output_type": "execute_result",
          "data": {
            "text/plain": [
              "True     418\n",
              "False    398\n",
              "dtype: int64"
            ]
          },
          "metadata": {
            "tags": []
          },
          "execution_count": 34
        }
      ]
    },
    {
      "cell_type": "code",
      "metadata": {
        "colab": {
          "base_uri": "https://localhost:8080/",
          "height": 321
        },
        "id": "vA4ppVeuu2Lj",
        "outputId": "b32d0ec7-e5fe-41a1-f51a-6d8cd99b9996"
      },
      "source": [
        "plt.figure(figsize=(5, 5))\n",
        "plt.pie(match_winner_count, labels = match_winner_count.index, autopct = '%1.1f%%')\n",
        "plt.xticks(fontsize = 10)\n",
        "plt.yticks(fontsize = 10)\n",
        "plt.title('Winning Toss vs Winning Match', fontsize = 16)\n",
        "plt.show()"
      ],
      "execution_count": 35,
      "outputs": [
        {
          "output_type": "display_data",
          "data": {
            "image/png": "[encoded data removed]",
            "text/plain": [
              "<Figure size 360x360 with 1 Axes>"
            ]
          },
          "metadata": {
            "tags": []
          }
        }
      ]
    },
    {
      "cell_type": "code",
      "metadata": {
        "colab": {
          "base_uri": "https://localhost:8080/",
          "height": 511
        },
        "id": "IhaKAnfQL_Ms",
        "outputId": "6030e58f-751f-4d37-f84a-6e0e7e194caa"
      },
      "source": [
        "matches_played = pd.concat([match['team1'], match['team2']])\n",
        "matches_played = matches_played.value_counts().reset_index()\n",
        "matches_played.columns = ['team', 'total_matches']\n",
        "matches_played['matches_won'] = match['winner'].value_counts().reset_index()['winner']\n",
        "matches_played['matches_lost'] = matches_played['total_matches'] - matches_played['matches_won']\n",
        "matches_played.set_index('team', inplace = True)\n",
        "matches_played.reset_index()"
      ],
      "execution_count": 36,
      "outputs": [
        {
          "output_type": "execute_result",
          "data": {
            "text/html": [
              "<div>\n",
              "<style scoped>\n",
              "    .dataframe tbody tr th:only-of-type {\n",
              "        vertical-align: middle;\n",
              "    }\n",
              "\n",
              "    .dataframe tbody tr th {\n",
              "        vertical-align: top;\n",
              "    }\n",
              "\n",
              "    .dataframe thead th {\n",
              "        text-align: right;\n",
              "    }\n",
              "</style>\n",
              "<table border=\"1\" class=\"dataframe\">\n",
              "  <thead>\n",
              "    <tr style=\"text-align: right;\">\n",
              "      <th></th>\n",
              "      <th>team</th>\n",
              "      <th>total_matches</th>\n",
              "      <th>matches_won</th>\n",
              "      <th>matches_lost</th>\n",
              "    </tr>\n",
              "  </thead>\n",
              "  <tbody>\n",
              "    <tr>\n",
              "      <th>0</th>\n",
              "      <td>Mumbai Indians</td>\n",
              "      <td>203</td>\n",
              "      <td>120</td>\n",
              "      <td>83</td>\n",
              "    </tr>\n",
              "    <tr>\n",
              "      <th>1</th>\n",
              "      <td>Royal Challengers Bangalore</td>\n",
              "      <td>195</td>\n",
              "      <td>106</td>\n",
              "      <td>89</td>\n",
              "    </tr>\n",
              "    <tr>\n",
              "      <th>2</th>\n",
              "      <td>Kolkata Knight Riders</td>\n",
              "      <td>192</td>\n",
              "      <td>99</td>\n",
              "      <td>93</td>\n",
              "    </tr>\n",
              "    <tr>\n",
              "      <th>3</th>\n",
              "      <td>Kings XI Punjab</td>\n",
              "      <td>190</td>\n",
              "      <td>91</td>\n",
              "      <td>99</td>\n",
              "    </tr>\n",
              "    <tr>\n",
              "      <th>4</th>\n",
              "      <td>Chennai Super Kings</td>\n",
              "      <td>178</td>\n",
              "      <td>88</td>\n",
              "      <td>90</td>\n",
              "    </tr>\n",
              "    <tr>\n",
              "      <th>5</th>\n",
              "      <td>Rajasthan Royals</td>\n",
              "      <td>161</td>\n",
              "      <td>81</td>\n",
              "      <td>80</td>\n",
              "    </tr>\n",
              "    <tr>\n",
              "      <th>6</th>\n",
              "      <td>Delhi Daredevils</td>\n",
              "      <td>161</td>\n",
              "      <td>67</td>\n",
              "      <td>94</td>\n",
              "    </tr>\n",
              "    <tr>\n",
              "      <th>7</th>\n",
              "      <td>Sunrisers Hyderabad</td>\n",
              "      <td>124</td>\n",
              "      <td>66</td>\n",
              "      <td>58</td>\n",
              "    </tr>\n",
              "    <tr>\n",
              "      <th>8</th>\n",
              "      <td>Deccan Chargers</td>\n",
              "      <td>75</td>\n",
              "      <td>29</td>\n",
              "      <td>46</td>\n",
              "    </tr>\n",
              "    <tr>\n",
              "      <th>9</th>\n",
              "      <td>Pune Warriors</td>\n",
              "      <td>46</td>\n",
              "      <td>19</td>\n",
              "      <td>27</td>\n",
              "    </tr>\n",
              "    <tr>\n",
              "      <th>10</th>\n",
              "      <td>Delhi Capitals</td>\n",
              "      <td>33</td>\n",
              "      <td>13</td>\n",
              "      <td>20</td>\n",
              "    </tr>\n",
              "    <tr>\n",
              "      <th>11</th>\n",
              "      <td>Gujarat Lions</td>\n",
              "      <td>30</td>\n",
              "      <td>12</td>\n",
              "      <td>18</td>\n",
              "    </tr>\n",
              "    <tr>\n",
              "      <th>12</th>\n",
              "      <td>Rising Pune Supergiant</td>\n",
              "      <td>16</td>\n",
              "      <td>10</td>\n",
              "      <td>6</td>\n",
              "    </tr>\n",
              "    <tr>\n",
              "      <th>13</th>\n",
              "      <td>Kochi Tuskers Kerala</td>\n",
              "      <td>14</td>\n",
              "      <td>6</td>\n",
              "      <td>8</td>\n",
              "    </tr>\n",
              "    <tr>\n",
              "      <th>14</th>\n",
              "      <td>Rising Pune Supergiants</td>\n",
              "      <td>14</td>\n",
              "      <td>5</td>\n",
              "      <td>9</td>\n",
              "    </tr>\n",
              "  </tbody>\n",
              "</table>\n",
              "</div>"
            ],
            "text/plain": [
              "                           team  total_matches  matches_won  matches_lost\n",
              "0                Mumbai Indians            203          120            83\n",
              "1   Royal Challengers Bangalore            195          106            89\n",
              "2         Kolkata Knight Riders            192           99            93\n",
              "3               Kings XI Punjab            190           91            99\n",
              "4           Chennai Super Kings            178           88            90\n",
              "5              Rajasthan Royals            161           81            80\n",
              "6              Delhi Daredevils            161           67            94\n",
              "7           Sunrisers Hyderabad            124           66            58\n",
              "8               Deccan Chargers             75           29            46\n",
              "9                 Pune Warriors             46           19            27\n",
              "10               Delhi Capitals             33           13            20\n",
              "11                Gujarat Lions             30           12            18\n",
              "12       Rising Pune Supergiant             16           10             6\n",
              "13         Kochi Tuskers Kerala             14            6             8\n",
              "14      Rising Pune Supergiants             14            5             9"
            ]
          },
          "metadata": {
            "tags": []
          },
          "execution_count": 36
        }
      ]
    },
    {
      "cell_type": "code",
      "metadata": {
        "colab": {
          "base_uri": "https://localhost:8080/",
          "height": 543
        },
        "id": "agsbHbj6NMA7",
        "outputId": "91d1bba3-d75c-4fdb-9101-48bc294a7dba"
      },
      "source": [
        "plt.figure(figsize = (15, 6))\n",
        "sns.barplot(matches_played['matches_won'].index, matches_played['matches_won'], palette = 'Accent')\n",
        "plt.xticks(rotation = 90, fontsize = 10)\n",
        "plt.yticks(fontsize = 10)\n",
        "plt.xlabel('Teams', fontsize = 12)\n",
        "plt.ylabel('Total Number', fontsize = 12)\n",
        "plt.title('Total Number of Matches Won by the Team', fontsize = 16)\n",
        "plt.show()"
      ],
      "execution_count": 37,
      "outputs": [
        {
          "output_type": "display_data",
          "data": {
            "image/png": "[encoded data removed]",
            "text/plain": [
              "<Figure size 1080x432 with 1 Axes>"
            ]
          },
          "metadata": {
            "tags": [],
            "needs_background": "light"
          }
        }
      ]
    },
    {
      "cell_type": "code",
      "metadata": {
        "colab": {
          "base_uri": "https://localhost:8080/",
          "height": 543
        },
        "id": "aOxOXGMjNfwK",
        "outputId": "18bc1669-b1e6-4f24-c584-06431ab839c0"
      },
      "source": [
        "plt.figure(figsize = (15, 6))\n",
        "sns.barplot(matches_played['matches_lost'].index, matches_played['matches_lost'], palette = 'Accent')\n",
        "plt.xticks(rotation = 90, fontsize = 10)\n",
        "plt.yticks(fontsize = 10)\n",
        "plt.xlabel('Teams', fontsize = 12)\n",
        "plt.ylabel('Total Number', fontsize = 12)\n",
        "plt.title('Total Number of Matches Lost by the Team', fontsize = 16)\n",
        "plt.show()"
      ],
      "execution_count": 38,
      "outputs": [
        {
          "output_type": "display_data",
          "data": {
            "image/png": "[encoded data removed]",
            "text/plain": [
              "<Figure size 1080x432 with 1 Axes>"
            ]
          },
          "metadata": {
            "tags": [],
            "needs_background": "light"
          }
        }
      ]
    },
    {
      "cell_type": "code",
      "metadata": {
        "colab": {
          "base_uri": "https://localhost:8080/",
          "height": 1000
        },
        "id": "uXpW9akOWOsy",
        "outputId": "93bd9b9f-3a83-49a8-8158-6e90d48af611"
      },
      "source": [
        "plt.figure(figsize = (15, 25))\n",
        "sns.countplot(y = 'winner', data = match, hue = 'season', palette = 'Accent')\n",
        "plt.xticks(fontsize=10)\n",
        "plt.yticks(fontsize = 10)\n",
        "plt.xlabel('Total Matches Won', fontsize = 12)\n",
        "plt.ylabel('Teams', fontsize = 12)\n",
        "plt.title('Total Number of Matches Won by the Team across Seasons', fontsize = 16)\n",
        "plt.show()"
      ],
      "execution_count": 39,
      "outputs": [
        {
          "output_type": "display_data",
          "data": {
            "image/png": "[encoded data removed]",
            "text/plain": [
              "<Figure size 1080x1800 with 1 Axes>"
            ]
          },
          "metadata": {
            "tags": [],
            "needs_background": "light"
          }
        }
      ]
    },
    {
      "cell_type": "code",
      "metadata": {
        "colab": {
          "base_uri": "https://localhost:8080/"
        },
        "id": "bfs2c8CDXAO_",
        "outputId": "21a321db-968c-4c90-c3da-a4866ab81fc0"
      },
      "source": [
        "results_count = match['result'].value_counts()\n",
        "results_count"
      ],
      "execution_count": 40,
      "outputs": [
        {
          "output_type": "execute_result",
          "data": {
            "text/plain": [
              "wickets    435\n",
              "runs       364\n",
              "tie         13\n",
              "Name: result, dtype: int64"
            ]
          },
          "metadata": {
            "tags": []
          },
          "execution_count": 40
        }
      ]
    },
    {
      "cell_type": "code",
      "metadata": {
        "colab": {
          "base_uri": "https://localhost:8080/",
          "height": 321
        },
        "id": "le7NYYAzXtax",
        "outputId": "e22ae54e-e896-4fca-ae41-fce6215564a1"
      },
      "source": [
        "plt.figure(figsize = (5, 5))\n",
        "plt.pie(results_count, labels = results_count.index, autopct = '%1.1f%%')\n",
        "plt.xticks(fontsize = 10)\n",
        "plt.yticks(fontsize = 10)\n",
        "plt.title('Team Results', fontsize = 16)\n",
        "plt.show()"
      ],
      "execution_count": 41,
      "outputs": [
        {
          "output_type": "display_data",
          "data": {
            "image/png": "[encoded data removed]",
            "text/plain": [
              "<Figure size 360x360 with 1 Axes>"
            ]
          },
          "metadata": {
            "tags": []
          }
        }
      ]
    },
    {
      "cell_type": "code",
      "metadata": {
        "colab": {
          "base_uri": "https://localhost:8080/"
        },
        "id": "yehtq_I-S0h2",
        "outputId": "5a79ce62-2d98-4aac-8348-900206f83e87"
      },
      "source": [
        "total_mom_won = match['player_of_match'].value_counts()\n",
        "total_mom_won.head(20)"
      ],
      "execution_count": 42,
      "outputs": [
        {
          "output_type": "execute_result",
          "data": {
            "text/plain": [
              "AB de Villiers    23\n",
              "CH Gayle          22\n",
              "RG Sharma         18\n",
              "MS Dhoni          17\n",
              "DA Warner         17\n",
              "SR Watson         16\n",
              "YK Pathan         16\n",
              "SK Raina          14\n",
              "V Kohli           13\n",
              "G Gambhir         13\n",
              "AM Rahane         12\n",
              "MEK Hussey        12\n",
              "AD Russell        11\n",
              "DR Smith          11\n",
              "V Sehwag          11\n",
              "A Mishra          11\n",
              "KA Pollard        11\n",
              "JH Kallis         10\n",
              "AT Rayudu         10\n",
              "SE Marsh           9\n",
              "Name: player_of_match, dtype: int64"
            ]
          },
          "metadata": {
            "tags": []
          },
          "execution_count": 42
        }
      ]
    },
    {
      "cell_type": "code",
      "metadata": {
        "colab": {
          "base_uri": "https://localhost:8080/",
          "height": 479
        },
        "id": "ec9G5N_4Vpd2",
        "outputId": "714e85ca-213c-42d7-814f-004659f767e2"
      },
      "source": [
        "plt.figure(figsize = (18, 6))\n",
        "match.player_of_match.value_counts()[:20].plot(kind='bar')\n",
        "plt.xlabel('Players')\n",
        "plt.ylabel(\"Count\")\n",
        "plt.title(\"Highest MOM Award Winners\",fontsize=15,fontweight=\"bold\")"
      ],
      "execution_count": 43,
      "outputs": [
        {
          "output_type": "execute_result",
          "data": {
            "text/plain": [
              "Text(0.5, 1.0, 'Highest MOM Award Winners')"
            ]
          },
          "metadata": {
            "tags": []
          },
          "execution_count": 43
        },
        {
          "output_type": "display_data",
          "data": {
            "image/png": "[encoded data removed]",
            "text/plain": [
              "<Figure size 1296x432 with 1 Axes>"
            ]
          },
          "metadata": {
            "tags": [],
            "needs_background": "light"
          }
        }
      ]
    },
    {
      "cell_type": "code",
      "metadata": {
        "colab": {
          "base_uri": "https://localhost:8080/",
          "height": 391
        },
        "id": "10O5ToZiareB",
        "outputId": "45b6949b-f1a6-4276-ff63-52d1f98adadb"
      },
      "source": [
        "season_data = match[['id','season']].merge(ball_by_ball, left_on = 'id', right_on = 'id', how = 'left').drop('id', axis = 1)\n",
        "season_data.head()"
      ],
      "execution_count": 44,
      "outputs": [
        {
          "output_type": "execute_result",
          "data": {
            "text/html": [
              "<div>\n",
              "<style scoped>\n",
              "    .dataframe tbody tr th:only-of-type {\n",
              "        vertical-align: middle;\n",
              "    }\n",
              "\n",
              "    .dataframe tbody tr th {\n",
              "        vertical-align: top;\n",
              "    }\n",
              "\n",
              "    .dataframe thead th {\n",
              "        text-align: right;\n",
              "    }\n",
              "</style>\n",
              "<table border=\"1\" class=\"dataframe\">\n",
              "  <thead>\n",
              "    <tr style=\"text-align: right;\">\n",
              "      <th></th>\n",
              "      <th>season</th>\n",
              "      <th>inning</th>\n",
              "      <th>over</th>\n",
              "      <th>ball</th>\n",
              "      <th>batsman</th>\n",
              "      <th>non_striker</th>\n",
              "      <th>bowler</th>\n",
              "      <th>batsman_runs</th>\n",
              "      <th>extra_runs</th>\n",
              "      <th>total_runs</th>\n",
              "      <th>non_boundary</th>\n",
              "      <th>is_wicket</th>\n",
              "      <th>dismissal_kind</th>\n",
              "      <th>player_dismissed</th>\n",
              "      <th>fielder</th>\n",
              "      <th>extras_type</th>\n",
              "      <th>batting_team</th>\n",
              "      <th>bowling_team</th>\n",
              "    </tr>\n",
              "  </thead>\n",
              "  <tbody>\n",
              "    <tr>\n",
              "      <th>0</th>\n",
              "      <td>2008</td>\n",
              "      <td>1.0</td>\n",
              "      <td>6.0</td>\n",
              "      <td>5.0</td>\n",
              "      <td>RT Ponting</td>\n",
              "      <td>BB McCullum</td>\n",
              "      <td>AA Noffke</td>\n",
              "      <td>1.0</td>\n",
              "      <td>0.0</td>\n",
              "      <td>1.0</td>\n",
              "      <td>0.0</td>\n",
              "      <td>0.0</td>\n",
              "      <td>NaN</td>\n",
              "      <td>NaN</td>\n",
              "      <td>NaN</td>\n",
              "      <td>NaN</td>\n",
              "      <td>Kolkata Knight Riders</td>\n",
              "      <td>Royal Challengers Bangalore</td>\n",
              "    </tr>\n",
              "    <tr>\n",
              "      <th>1</th>\n",
              "      <td>2008</td>\n",
              "      <td>1.0</td>\n",
              "      <td>6.0</td>\n",
              "      <td>6.0</td>\n",
              "      <td>BB McCullum</td>\n",
              "      <td>RT Ponting</td>\n",
              "      <td>AA Noffke</td>\n",
              "      <td>1.0</td>\n",
              "      <td>0.0</td>\n",
              "      <td>1.0</td>\n",
              "      <td>0.0</td>\n",
              "      <td>0.0</td>\n",
              "      <td>NaN</td>\n",
              "      <td>NaN</td>\n",
              "      <td>NaN</td>\n",
              "      <td>NaN</td>\n",
              "      <td>Kolkata Knight Riders</td>\n",
              "      <td>Royal Challengers Bangalore</td>\n",
              "    </tr>\n",
              "    <tr>\n",
              "      <th>2</th>\n",
              "      <td>2008</td>\n",
              "      <td>1.0</td>\n",
              "      <td>7.0</td>\n",
              "      <td>1.0</td>\n",
              "      <td>BB McCullum</td>\n",
              "      <td>RT Ponting</td>\n",
              "      <td>Z Khan</td>\n",
              "      <td>0.0</td>\n",
              "      <td>0.0</td>\n",
              "      <td>0.0</td>\n",
              "      <td>0.0</td>\n",
              "      <td>0.0</td>\n",
              "      <td>NaN</td>\n",
              "      <td>NaN</td>\n",
              "      <td>NaN</td>\n",
              "      <td>NaN</td>\n",
              "      <td>Kolkata Knight Riders</td>\n",
              "      <td>Royal Challengers Bangalore</td>\n",
              "    </tr>\n",
              "    <tr>\n",
              "      <th>3</th>\n",
              "      <td>2008</td>\n",
              "      <td>1.0</td>\n",
              "      <td>7.0</td>\n",
              "      <td>2.0</td>\n",
              "      <td>BB McCullum</td>\n",
              "      <td>RT Ponting</td>\n",
              "      <td>Z Khan</td>\n",
              "      <td>1.0</td>\n",
              "      <td>0.0</td>\n",
              "      <td>1.0</td>\n",
              "      <td>0.0</td>\n",
              "      <td>0.0</td>\n",
              "      <td>NaN</td>\n",
              "      <td>NaN</td>\n",
              "      <td>NaN</td>\n",
              "      <td>NaN</td>\n",
              "      <td>Kolkata Knight Riders</td>\n",
              "      <td>Royal Challengers Bangalore</td>\n",
              "    </tr>\n",
              "    <tr>\n",
              "      <th>4</th>\n",
              "      <td>2008</td>\n",
              "      <td>1.0</td>\n",
              "      <td>7.0</td>\n",
              "      <td>3.0</td>\n",
              "      <td>RT Ponting</td>\n",
              "      <td>BB McCullum</td>\n",
              "      <td>Z Khan</td>\n",
              "      <td>1.0</td>\n",
              "      <td>0.0</td>\n",
              "      <td>1.0</td>\n",
              "      <td>0.0</td>\n",
              "      <td>0.0</td>\n",
              "      <td>NaN</td>\n",
              "      <td>NaN</td>\n",
              "      <td>NaN</td>\n",
              "      <td>NaN</td>\n",
              "      <td>Kolkata Knight Riders</td>\n",
              "      <td>Royal Challengers Bangalore</td>\n",
              "    </tr>\n",
              "  </tbody>\n",
              "</table>\n",
              "</div>"
            ],
            "text/plain": [
              "   season  inning  ...           batting_team                 bowling_team\n",
              "0    2008     1.0  ...  Kolkata Knight Riders  Royal Challengers Bangalore\n",
              "1    2008     1.0  ...  Kolkata Knight Riders  Royal Challengers Bangalore\n",
              "2    2008     1.0  ...  Kolkata Knight Riders  Royal Challengers Bangalore\n",
              "3    2008     1.0  ...  Kolkata Knight Riders  Royal Challengers Bangalore\n",
              "4    2008     1.0  ...  Kolkata Knight Riders  Royal Challengers Bangalore\n",
              "\n",
              "[5 rows x 18 columns]"
            ]
          },
          "metadata": {
            "tags": []
          },
          "execution_count": 44
        }
      ]
    },
    {
      "cell_type": "code",
      "metadata": {
        "colab": {
          "base_uri": "https://localhost:8080/",
          "height": 300
        },
        "id": "qgi4tvCWbPgh",
        "outputId": "f45220da-5be7-4dd3-9c8b-2aeb98dbc511"
      },
      "source": [
        "season = season_data.groupby(['season'])['total_runs'].sum().reset_index()\n",
        "sns.lineplot(data = season.set_index('season'), palette = 'Accent')\n",
        "sns.scatterplot(data = season.set_index('season'), palette = 'magma')\n",
        "plt.xticks(fontsize = 10)\n",
        "plt.yticks(fontsize = 10)\n",
        "plt.xlabel('Season', fontsize = 12)\n",
        "plt.ylabel('Runs Scored', fontsize = 12)\n",
        "plt.title('Total Scored in Each Season', fontsize=16)\n",
        "plt.show()"
      ],
      "execution_count": 45,
      "outputs": [
        {
          "output_type": "display_data",
          "data": {
            "image/png": "[encoded data removed]",
            "text/plain": [
              "<Figure size 432x288 with 1 Axes>"
            ]
          },
          "metadata": {
            "tags": [],
            "needs_background": "light"
          }
        }
      ]
    },
    {
      "cell_type": "code",
      "metadata": {
        "colab": {
          "base_uri": "https://localhost:8080/",
          "height": 480
        },
        "id": "PYWoEqFOccFh",
        "outputId": "b475d7c4-3197-49ad-b7b4-ed9d12cdcb0d"
      },
      "source": [
        "season_runs = pd.concat([season_matches, season.iloc[:, 1]], axis=1)\n",
        "season_runs['avg runs scored per match'] = season_runs['total_runs'] / season_runs['matches']\n",
        "season_runs.set_index('season',inplace=True)\n",
        "season_runs"
      ],
      "execution_count": 46,
      "outputs": [
        {
          "output_type": "execute_result",
          "data": {
            "text/html": [
              "<div>\n",
              "<style scoped>\n",
              "    .dataframe tbody tr th:only-of-type {\n",
              "        vertical-align: middle;\n",
              "    }\n",
              "\n",
              "    .dataframe tbody tr th {\n",
              "        vertical-align: top;\n",
              "    }\n",
              "\n",
              "    .dataframe thead th {\n",
              "        text-align: right;\n",
              "    }\n",
              "</style>\n",
              "<table border=\"1\" class=\"dataframe\">\n",
              "  <thead>\n",
              "    <tr style=\"text-align: right;\">\n",
              "      <th></th>\n",
              "      <th>matches</th>\n",
              "      <th>total_runs</th>\n",
              "      <th>avg runs scored per match</th>\n",
              "    </tr>\n",
              "    <tr>\n",
              "      <th>season</th>\n",
              "      <th></th>\n",
              "      <th></th>\n",
              "      <th></th>\n",
              "    </tr>\n",
              "  </thead>\n",
              "  <tbody>\n",
              "    <tr>\n",
              "      <th>2008</th>\n",
              "      <td>58</td>\n",
              "      <td>17937.0</td>\n",
              "      <td>309.258621</td>\n",
              "    </tr>\n",
              "    <tr>\n",
              "      <th>2009</th>\n",
              "      <td>57</td>\n",
              "      <td>16320.0</td>\n",
              "      <td>286.315789</td>\n",
              "    </tr>\n",
              "    <tr>\n",
              "      <th>2010</th>\n",
              "      <td>60</td>\n",
              "      <td>18864.0</td>\n",
              "      <td>314.400000</td>\n",
              "    </tr>\n",
              "    <tr>\n",
              "      <th>2011</th>\n",
              "      <td>73</td>\n",
              "      <td>21154.0</td>\n",
              "      <td>289.780822</td>\n",
              "    </tr>\n",
              "    <tr>\n",
              "      <th>2012</th>\n",
              "      <td>74</td>\n",
              "      <td>22453.0</td>\n",
              "      <td>303.418919</td>\n",
              "    </tr>\n",
              "    <tr>\n",
              "      <th>2013</th>\n",
              "      <td>76</td>\n",
              "      <td>22541.0</td>\n",
              "      <td>296.592105</td>\n",
              "    </tr>\n",
              "    <tr>\n",
              "      <th>2014</th>\n",
              "      <td>60</td>\n",
              "      <td>18909.0</td>\n",
              "      <td>315.150000</td>\n",
              "    </tr>\n",
              "    <tr>\n",
              "      <th>2015</th>\n",
              "      <td>59</td>\n",
              "      <td>18332.0</td>\n",
              "      <td>310.711864</td>\n",
              "    </tr>\n",
              "    <tr>\n",
              "      <th>2016</th>\n",
              "      <td>60</td>\n",
              "      <td>18862.0</td>\n",
              "      <td>314.366667</td>\n",
              "    </tr>\n",
              "    <tr>\n",
              "      <th>2017</th>\n",
              "      <td>59</td>\n",
              "      <td>18769.0</td>\n",
              "      <td>318.118644</td>\n",
              "    </tr>\n",
              "    <tr>\n",
              "      <th>2018</th>\n",
              "      <td>60</td>\n",
              "      <td>19901.0</td>\n",
              "      <td>331.683333</td>\n",
              "    </tr>\n",
              "    <tr>\n",
              "      <th>2019</th>\n",
              "      <td>60</td>\n",
              "      <td>19076.0</td>\n",
              "      <td>317.933333</td>\n",
              "    </tr>\n",
              "    <tr>\n",
              "      <th>2020</th>\n",
              "      <td>60</td>\n",
              "      <td>0.0</td>\n",
              "      <td>0.000000</td>\n",
              "    </tr>\n",
              "  </tbody>\n",
              "</table>\n",
              "</div>"
            ],
            "text/plain": [
              "        matches  total_runs  avg runs scored per match\n",
              "season                                                \n",
              "2008         58     17937.0                 309.258621\n",
              "2009         57     16320.0                 286.315789\n",
              "2010         60     18864.0                 314.400000\n",
              "2011         73     21154.0                 289.780822\n",
              "2012         74     22453.0                 303.418919\n",
              "2013         76     22541.0                 296.592105\n",
              "2014         60     18909.0                 315.150000\n",
              "2015         59     18332.0                 310.711864\n",
              "2016         60     18862.0                 314.366667\n",
              "2017         59     18769.0                 318.118644\n",
              "2018         60     19901.0                 331.683333\n",
              "2019         60     19076.0                 317.933333\n",
              "2020         60         0.0                   0.000000"
            ]
          },
          "metadata": {
            "tags": []
          },
          "execution_count": 46
        }
      ]
    },
    {
      "cell_type": "code",
      "metadata": {
        "colab": {
          "base_uri": "https://localhost:8080/",
          "height": 511
        },
        "id": "-pELSE9xdRUh",
        "outputId": "c31e7c16-385a-459e-dbe5-95caa0f287a5"
      },
      "source": [
        "batting_innings = ball_by_ball.groupby(['id', 'batsman']).apply(lambda x : np.sum(x['batsman_runs'])).reset_index(name = 'runs_scored')\n",
        "batting_innings = batting_innings.sort_values(by = 'runs_scored', ascending = False)\n",
        "top_runs_scored = batting_innings.loc[:,['batsman', 'runs_scored']][0:15]\n",
        "top_runs_scored"
      ],
      "execution_count": 47,
      "outputs": [
        {
          "output_type": "execute_result",
          "data": {
            "text/html": [
              "<div>\n",
              "<style scoped>\n",
              "    .dataframe tbody tr th:only-of-type {\n",
              "        vertical-align: middle;\n",
              "    }\n",
              "\n",
              "    .dataframe tbody tr th {\n",
              "        vertical-align: top;\n",
              "    }\n",
              "\n",
              "    .dataframe thead th {\n",
              "        text-align: right;\n",
              "    }\n",
              "</style>\n",
              "<table border=\"1\" class=\"dataframe\">\n",
              "  <thead>\n",
              "    <tr style=\"text-align: right;\">\n",
              "      <th></th>\n",
              "      <th>batsman</th>\n",
              "      <th>runs_scored</th>\n",
              "    </tr>\n",
              "  </thead>\n",
              "  <tbody>\n",
              "    <tr>\n",
              "      <th>5302</th>\n",
              "      <td>CH Gayle</td>\n",
              "      <td>175.0</td>\n",
              "    </tr>\n",
              "    <tr>\n",
              "      <th>2</th>\n",
              "      <td>BB McCullum</td>\n",
              "      <td>158.0</td>\n",
              "    </tr>\n",
              "    <tr>\n",
              "      <th>7528</th>\n",
              "      <td>AB de Villiers</td>\n",
              "      <td>133.0</td>\n",
              "    </tr>\n",
              "    <tr>\n",
              "      <th>8359</th>\n",
              "      <td>AB de Villiers</td>\n",
              "      <td>129.0</td>\n",
              "    </tr>\n",
              "    <tr>\n",
              "      <th>4687</th>\n",
              "      <td>CH Gayle</td>\n",
              "      <td>128.0</td>\n",
              "    </tr>\n",
              "    <tr>\n",
              "      <th>10149</th>\n",
              "      <td>RR Pant</td>\n",
              "      <td>128.0</td>\n",
              "    </tr>\n",
              "    <tr>\n",
              "      <th>2237</th>\n",
              "      <td>M Vijay</td>\n",
              "      <td>127.0</td>\n",
              "    </tr>\n",
              "    <tr>\n",
              "      <th>9146</th>\n",
              "      <td>DA Warner</td>\n",
              "      <td>126.0</td>\n",
              "    </tr>\n",
              "    <tr>\n",
              "      <th>6854</th>\n",
              "      <td>V Sehwag</td>\n",
              "      <td>122.0</td>\n",
              "    </tr>\n",
              "    <tr>\n",
              "      <th>2788</th>\n",
              "      <td>PC Valthaty</td>\n",
              "      <td>120.0</td>\n",
              "    </tr>\n",
              "    <tr>\n",
              "      <th>3325</th>\n",
              "      <td>V Sehwag</td>\n",
              "      <td>119.0</td>\n",
              "    </tr>\n",
              "    <tr>\n",
              "      <th>10417</th>\n",
              "      <td>SR Watson</td>\n",
              "      <td>117.0</td>\n",
              "    </tr>\n",
              "    <tr>\n",
              "      <th>7460</th>\n",
              "      <td>CH Gayle</td>\n",
              "      <td>117.0</td>\n",
              "    </tr>\n",
              "    <tr>\n",
              "      <th>119</th>\n",
              "      <td>A Symonds</td>\n",
              "      <td>117.0</td>\n",
              "    </tr>\n",
              "    <tr>\n",
              "      <th>21</th>\n",
              "      <td>MEK Hussey</td>\n",
              "      <td>116.0</td>\n",
              "    </tr>\n",
              "  </tbody>\n",
              "</table>\n",
              "</div>"
            ],
            "text/plain": [
              "              batsman  runs_scored\n",
              "5302         CH Gayle        175.0\n",
              "2         BB McCullum        158.0\n",
              "7528   AB de Villiers        133.0\n",
              "8359   AB de Villiers        129.0\n",
              "4687         CH Gayle        128.0\n",
              "10149         RR Pant        128.0\n",
              "2237          M Vijay        127.0\n",
              "9146        DA Warner        126.0\n",
              "6854         V Sehwag        122.0\n",
              "2788      PC Valthaty        120.0\n",
              "3325         V Sehwag        119.0\n",
              "10417       SR Watson        117.0\n",
              "7460         CH Gayle        117.0\n",
              "119         A Symonds        117.0\n",
              "21         MEK Hussey        116.0"
            ]
          },
          "metadata": {
            "tags": []
          },
          "execution_count": 47
        }
      ]
    },
    {
      "cell_type": "code",
      "metadata": {
        "colab": {
          "base_uri": "https://localhost:8080/",
          "height": 511
        },
        "id": "jtuC4Wo3sIy2",
        "outputId": "8bea9afb-d34d-428a-a5b4-a601f9a9a55b"
      },
      "source": [
        "bowler_innings = ball_by_ball.groupby(['id', 'bowler']).apply(lambda x : np.sum(x['is_wicket'])).reset_index(name = 'wickets_taken')\n",
        "bowler_innings = bowler_innings.sort_values(by = 'wickets_taken', ascending = False)\n",
        "top_wicket_taken = bowler_innings.loc[:,['bowler', 'wickets_taken']][0:15]\n",
        "top_wicket_taken"
      ],
      "execution_count": 48,
      "outputs": [
        {
          "output_type": "execute_result",
          "data": {
            "text/html": [
              "<div>\n",
              "<style scoped>\n",
              "    .dataframe tbody tr th:only-of-type {\n",
              "        vertical-align: middle;\n",
              "    }\n",
              "\n",
              "    .dataframe tbody tr th {\n",
              "        vertical-align: top;\n",
              "    }\n",
              "\n",
              "    .dataframe thead th {\n",
              "        text-align: right;\n",
              "    }\n",
              "</style>\n",
              "<table border=\"1\" class=\"dataframe\">\n",
              "  <thead>\n",
              "    <tr style=\"text-align: right;\">\n",
              "      <th></th>\n",
              "      <th>bowler</th>\n",
              "      <th>wickets_taken</th>\n",
              "    </tr>\n",
              "  </thead>\n",
              "  <tbody>\n",
              "    <tr>\n",
              "      <th>290</th>\n",
              "      <td>Sohail Tanvir</td>\n",
              "      <td>6.0</td>\n",
              "    </tr>\n",
              "    <tr>\n",
              "      <th>4546</th>\n",
              "      <td>DJG Sammy</td>\n",
              "      <td>6.0</td>\n",
              "    </tr>\n",
              "    <tr>\n",
              "      <th>8499</th>\n",
              "      <td>AS Joseph</td>\n",
              "      <td>6.0</td>\n",
              "    </tr>\n",
              "    <tr>\n",
              "      <th>6510</th>\n",
              "      <td>AD Russell</td>\n",
              "      <td>6.0</td>\n",
              "    </tr>\n",
              "    <tr>\n",
              "      <th>6609</th>\n",
              "      <td>A Zampa</td>\n",
              "      <td>6.0</td>\n",
              "    </tr>\n",
              "    <tr>\n",
              "      <th>4657</th>\n",
              "      <td>JP Faulkner</td>\n",
              "      <td>5.0</td>\n",
              "    </tr>\n",
              "    <tr>\n",
              "      <th>4907</th>\n",
              "      <td>MM Sharma</td>\n",
              "      <td>5.0</td>\n",
              "    </tr>\n",
              "    <tr>\n",
              "      <th>3588</th>\n",
              "      <td>SP Narine</td>\n",
              "      <td>5.0</td>\n",
              "    </tr>\n",
              "    <tr>\n",
              "      <th>8643</th>\n",
              "      <td>SL Malinga</td>\n",
              "      <td>5.0</td>\n",
              "    </tr>\n",
              "    <tr>\n",
              "      <th>7857</th>\n",
              "      <td>AS Rajpoot</td>\n",
              "      <td>5.0</td>\n",
              "    </tr>\n",
              "    <tr>\n",
              "      <th>6608</th>\n",
              "      <td>A Nehra</td>\n",
              "      <td>5.0</td>\n",
              "    </tr>\n",
              "    <tr>\n",
              "      <th>2758</th>\n",
              "      <td>MM Patel</td>\n",
              "      <td>5.0</td>\n",
              "    </tr>\n",
              "    <tr>\n",
              "      <th>2392</th>\n",
              "      <td>Harbhajan Singh</td>\n",
              "      <td>5.0</td>\n",
              "    </tr>\n",
              "    <tr>\n",
              "      <th>4524</th>\n",
              "      <td>JD Unadkat</td>\n",
              "      <td>5.0</td>\n",
              "    </tr>\n",
              "    <tr>\n",
              "      <th>7374</th>\n",
              "      <td>JD Unadkat</td>\n",
              "      <td>5.0</td>\n",
              "    </tr>\n",
              "  </tbody>\n",
              "</table>\n",
              "</div>"
            ],
            "text/plain": [
              "               bowler  wickets_taken\n",
              "290     Sohail Tanvir            6.0\n",
              "4546        DJG Sammy            6.0\n",
              "8499        AS Joseph            6.0\n",
              "6510       AD Russell            6.0\n",
              "6609          A Zampa            6.0\n",
              "4657      JP Faulkner            5.0\n",
              "4907        MM Sharma            5.0\n",
              "3588        SP Narine            5.0\n",
              "8643       SL Malinga            5.0\n",
              "7857       AS Rajpoot            5.0\n",
              "6608          A Nehra            5.0\n",
              "2758         MM Patel            5.0\n",
              "2392  Harbhajan Singh            5.0\n",
              "4524       JD Unadkat            5.0\n",
              "7374       JD Unadkat            5.0"
            ]
          },
          "metadata": {
            "tags": []
          },
          "execution_count": 48
        }
      ]
    },
    {
      "cell_type": "code",
      "metadata": {
        "colab": {
          "base_uri": "https://localhost:8080/",
          "height": 511
        },
        "id": "s5r2cghZos-O",
        "outputId": "3279771e-e9db-46e9-b6e4-8bbf7bc79699"
      },
      "source": [
        "top_batsmen = ball_by_ball.groupby('batsman').apply(lambda x : np.sum(x['batsman_runs'])).reset_index(name = 'runs_scored')\n",
        "top_batsmen = top_batsmen.sort_values(by = 'runs_scored', ascending = False)\n",
        "top_run_scorer = top_batsmen[:15]\n",
        "top_run_scorer"
      ],
      "execution_count": 49,
      "outputs": [
        {
          "output_type": "execute_result",
          "data": {
            "text/html": [
              "<div>\n",
              "<style scoped>\n",
              "    .dataframe tbody tr th:only-of-type {\n",
              "        vertical-align: middle;\n",
              "    }\n",
              "\n",
              "    .dataframe tbody tr th {\n",
              "        vertical-align: top;\n",
              "    }\n",
              "\n",
              "    .dataframe thead th {\n",
              "        text-align: right;\n",
              "    }\n",
              "</style>\n",
              "<table border=\"1\" class=\"dataframe\">\n",
              "  <thead>\n",
              "    <tr style=\"text-align: right;\">\n",
              "      <th></th>\n",
              "      <th>batsman</th>\n",
              "      <th>runs_scored</th>\n",
              "    </tr>\n",
              "  </thead>\n",
              "  <tbody>\n",
              "    <tr>\n",
              "      <th>483</th>\n",
              "      <td>V Kohli</td>\n",
              "      <td>5412.0</td>\n",
              "    </tr>\n",
              "    <tr>\n",
              "      <th>421</th>\n",
              "      <td>SK Raina</td>\n",
              "      <td>5359.0</td>\n",
              "    </tr>\n",
              "    <tr>\n",
              "      <th>363</th>\n",
              "      <td>RG Sharma</td>\n",
              "      <td>4883.0</td>\n",
              "    </tr>\n",
              "    <tr>\n",
              "      <th>110</th>\n",
              "      <td>DA Warner</td>\n",
              "      <td>4706.0</td>\n",
              "    </tr>\n",
              "    <tr>\n",
              "      <th>390</th>\n",
              "      <td>S Dhawan</td>\n",
              "      <td>4579.0</td>\n",
              "    </tr>\n",
              "    <tr>\n",
              "      <th>92</th>\n",
              "      <td>CH Gayle</td>\n",
              "      <td>4484.0</td>\n",
              "    </tr>\n",
              "    <tr>\n",
              "      <th>289</th>\n",
              "      <td>MS Dhoni</td>\n",
              "      <td>4421.0</td>\n",
              "    </tr>\n",
              "    <tr>\n",
              "      <th>382</th>\n",
              "      <td>RV Uthappa</td>\n",
              "      <td>4411.0</td>\n",
              "    </tr>\n",
              "    <tr>\n",
              "      <th>23</th>\n",
              "      <td>AB de Villiers</td>\n",
              "      <td>4395.0</td>\n",
              "    </tr>\n",
              "    <tr>\n",
              "      <th>147</th>\n",
              "      <td>G Gambhir</td>\n",
              "      <td>4217.0</td>\n",
              "    </tr>\n",
              "    <tr>\n",
              "      <th>41</th>\n",
              "      <td>AM Rahane</td>\n",
              "      <td>3820.0</td>\n",
              "    </tr>\n",
              "    <tr>\n",
              "      <th>215</th>\n",
              "      <td>KD Karthik</td>\n",
              "      <td>3654.0</td>\n",
              "    </tr>\n",
              "    <tr>\n",
              "      <th>439</th>\n",
              "      <td>SR Watson</td>\n",
              "      <td>3495.0</td>\n",
              "    </tr>\n",
              "    <tr>\n",
              "      <th>53</th>\n",
              "      <td>AT Rayudu</td>\n",
              "      <td>3287.0</td>\n",
              "    </tr>\n",
              "    <tr>\n",
              "      <th>507</th>\n",
              "      <td>YK Pathan</td>\n",
              "      <td>3204.0</td>\n",
              "    </tr>\n",
              "  </tbody>\n",
              "</table>\n",
              "</div>"
            ],
            "text/plain": [
              "            batsman  runs_scored\n",
              "483         V Kohli       5412.0\n",
              "421        SK Raina       5359.0\n",
              "363       RG Sharma       4883.0\n",
              "110       DA Warner       4706.0\n",
              "390        S Dhawan       4579.0\n",
              "92         CH Gayle       4484.0\n",
              "289        MS Dhoni       4421.0\n",
              "382      RV Uthappa       4411.0\n",
              "23   AB de Villiers       4395.0\n",
              "147       G Gambhir       4217.0\n",
              "41        AM Rahane       3820.0\n",
              "215      KD Karthik       3654.0\n",
              "439       SR Watson       3495.0\n",
              "53        AT Rayudu       3287.0\n",
              "507       YK Pathan       3204.0"
            ]
          },
          "metadata": {
            "tags": []
          },
          "execution_count": 49
        }
      ]
    },
    {
      "cell_type": "code",
      "metadata": {
        "colab": {
          "base_uri": "https://localhost:8080/",
          "height": 465
        },
        "id": "j8KuW7x8pl_e",
        "outputId": "41890e20-65d6-43aa-892d-556979cbbb55"
      },
      "source": [
        "plt.figure(figsize=(12,6))\n",
        "plt.plot(top_run_scorer['batsman'], top_run_scorer['runs_scored'], color = 'g');\n",
        "plt.scatter(top_run_scorer['batsman'], top_run_scorer['runs_scored'], color = 'r');\n",
        "plt.xticks(rotation = 90, fontsize = 10)\n",
        "plt.yticks(fontsize = 10)\n",
        "plt.xlabel('Batsman Name', fontsize = 12)\n",
        "plt.ylabel('Runs Scored', fontsize = 12)\n",
        "plt.title('Leading Run Scorers', fontsize = 16)\n",
        "plt.show()"
      ],
      "execution_count": 50,
      "outputs": [
        {
          "output_type": "display_data",
          "data": {
            "image/png": "[encoded data removed]",
            "text/plain": [
              "<Figure size 864x432 with 1 Axes>"
            ]
          },
          "metadata": {
            "tags": [],
            "needs_background": "light"
          }
        }
      ]
    },
    {
      "cell_type": "code",
      "metadata": {
        "colab": {
          "base_uri": "https://localhost:8080/",
          "height": 511
        },
        "id": "-cu2lGr3kWoL",
        "outputId": "b3cc3719-bd0f-4ccc-e416-cfcf866ae42d"
      },
      "source": [
        "wickets = ball_by_ball[ball_by_ball['dismissal_kind'] != 'run out']\n",
        "bowler_wickets = wickets.groupby('bowler').apply(lambda x : x['dismissal_kind'].dropna()).reset_index(name = 'wickets')\n",
        "bowler_wickets_count = bowler_wickets.groupby('bowler').count().reset_index()\n",
        "bowler_wickets_count = bowler_wickets_count.sort_values(by='wickets',ascending=False)\n",
        "top_wickets_taker = bowler_wickets_count.loc[:,['bowler','wickets']][0:15]\n",
        "top_wickets_taker"
      ],
      "execution_count": 51,
      "outputs": [
        {
          "output_type": "execute_result",
          "data": {
            "text/html": [
              "<div>\n",
              "<style scoped>\n",
              "    .dataframe tbody tr th:only-of-type {\n",
              "        vertical-align: middle;\n",
              "    }\n",
              "\n",
              "    .dataframe tbody tr th {\n",
              "        vertical-align: top;\n",
              "    }\n",
              "\n",
              "    .dataframe thead th {\n",
              "        text-align: right;\n",
              "    }\n",
              "</style>\n",
              "<table border=\"1\" class=\"dataframe\">\n",
              "  <thead>\n",
              "    <tr style=\"text-align: right;\">\n",
              "      <th></th>\n",
              "      <th>bowler</th>\n",
              "      <th>wickets</th>\n",
              "    </tr>\n",
              "  </thead>\n",
              "  <tbody>\n",
              "    <tr>\n",
              "      <th>288</th>\n",
              "      <td>SL Malinga</td>\n",
              "      <td>169</td>\n",
              "    </tr>\n",
              "    <tr>\n",
              "      <th>5</th>\n",
              "      <td>A Mishra</td>\n",
              "      <td>157</td>\n",
              "    </tr>\n",
              "    <tr>\n",
              "      <th>228</th>\n",
              "      <td>PP Chawla</td>\n",
              "      <td>150</td>\n",
              "    </tr>\n",
              "    <tr>\n",
              "      <th>113</th>\n",
              "      <td>Harbhajan Singh</td>\n",
              "      <td>150</td>\n",
              "    </tr>\n",
              "    <tr>\n",
              "      <th>83</th>\n",
              "      <td>DJ Bravo</td>\n",
              "      <td>147</td>\n",
              "    </tr>\n",
              "    <tr>\n",
              "      <th>48</th>\n",
              "      <td>B Kumar</td>\n",
              "      <td>133</td>\n",
              "    </tr>\n",
              "    <tr>\n",
              "      <th>233</th>\n",
              "      <td>R Ashwin</td>\n",
              "      <td>125</td>\n",
              "    </tr>\n",
              "    <tr>\n",
              "      <th>295</th>\n",
              "      <td>SP Narine</td>\n",
              "      <td>122</td>\n",
              "    </tr>\n",
              "    <tr>\n",
              "      <th>326</th>\n",
              "      <td>UT Yadav</td>\n",
              "      <td>119</td>\n",
              "    </tr>\n",
              "    <tr>\n",
              "      <th>245</th>\n",
              "      <td>RA Jadeja</td>\n",
              "      <td>108</td>\n",
              "    </tr>\n",
              "    <tr>\n",
              "      <th>7</th>\n",
              "      <td>A Nehra</td>\n",
              "      <td>106</td>\n",
              "    </tr>\n",
              "    <tr>\n",
              "      <th>244</th>\n",
              "      <td>R Vinay Kumar</td>\n",
              "      <td>105</td>\n",
              "    </tr>\n",
              "    <tr>\n",
              "      <th>347</th>\n",
              "      <td>Z Khan</td>\n",
              "      <td>103</td>\n",
              "    </tr>\n",
              "    <tr>\n",
              "      <th>345</th>\n",
              "      <td>YS Chahal</td>\n",
              "      <td>100</td>\n",
              "    </tr>\n",
              "    <tr>\n",
              "      <th>99</th>\n",
              "      <td>DW Steyn</td>\n",
              "      <td>96</td>\n",
              "    </tr>\n",
              "  </tbody>\n",
              "</table>\n",
              "</div>"
            ],
            "text/plain": [
              "              bowler  wickets\n",
              "288       SL Malinga      169\n",
              "5           A Mishra      157\n",
              "228        PP Chawla      150\n",
              "113  Harbhajan Singh      150\n",
              "83          DJ Bravo      147\n",
              "48           B Kumar      133\n",
              "233         R Ashwin      125\n",
              "295        SP Narine      122\n",
              "326         UT Yadav      119\n",
              "245        RA Jadeja      108\n",
              "7            A Nehra      106\n",
              "244    R Vinay Kumar      105\n",
              "347           Z Khan      103\n",
              "345        YS Chahal      100\n",
              "99          DW Steyn       96"
            ]
          },
          "metadata": {
            "tags": []
          },
          "execution_count": 51
        }
      ]
    },
    {
      "cell_type": "code",
      "metadata": {
        "colab": {
          "base_uri": "https://localhost:8080/",
          "height": 428
        },
        "id": "BY8MTLQ0m7LL",
        "outputId": "7bb62601-d41a-49b4-eb62-19d0f9dbe605"
      },
      "source": [
        "plt.figure(figsize=(15, 5))\n",
        "plt.plot(top_wickets_taker['bowler'], top_wickets_taker['wickets'], color = 'g');\n",
        "plt.scatter(top_wickets_taker['bowler'], top_wickets_taker['wickets'], color = 'r');\n",
        "plt.xticks(rotation = 90, fontsize = 10)\n",
        "plt.yticks(fontsize = 10)\n",
        "plt.xlabel('Bowler Name', fontsize = 12)\n",
        "plt.ylabel('Wickets Taken', fontsize = 12)\n",
        "plt.title('Leading Wicket Takers', fontsize = 16)\n",
        "plt.show()"
      ],
      "execution_count": 52,
      "outputs": [
        {
          "output_type": "display_data",
          "data": {
            "image/png": "[encoded data removed]",
            "text/plain": [
              "<Figure size 1080x360 with 1 Axes>"
            ]
          },
          "metadata": {
            "tags": [],
            "needs_background": "light"
          }
        }
      ]
    }
  ]
}